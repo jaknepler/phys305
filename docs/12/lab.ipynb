{
 "cells": [
  {
   "cell_type": "markdown",
   "id": "0",
   "metadata": {},
   "source": [
    "# Bayesian Statistics Lab"
   ]
  },
  {
   "cell_type": "markdown",
   "id": "1",
   "metadata": {},
   "source": [
    "In this hands-on lab, we continue our demonstration of \"estimating the mass of a new fundamental particle\".\n",
    "We will generate multiple experiments, each giving a noisy measurement of the particle's mass, and sequentially update our posterior distribution after each experiment.\n",
    "We will then discuss what we should do when new theoretical prior appears."
   ]
  },
  {
   "cell_type": "markdown",
   "id": "2",
   "metadata": {},
   "source": [
    "## Physical Setup (Brief Recap)\n",
    "\n",
    "Let's update some notation from the notes.\n",
    "\n",
    "We have a particle of **true mass** $m_\\text{true}$, measured in TeV.\n",
    "Each experiment yields an observed mass $m_\\text{obs}$ with Gaussian noise:\n",
    "\\begin{align}\n",
    "m_\\text{obs} \\;\\sim\\; \\mathcal{N}(m_\\text{true},\\sigma_\\text{expr}^2).\n",
    "\\end{align}\n",
    "Here, $\\sigma_\\text{expr}$ is the detector resolution or statistical uncertainty."
   ]
  },
  {
   "cell_type": "markdown",
   "id": "3",
   "metadata": {},
   "source": [
    "We know that $m_\\text{true}$ lies in some range $[2,8]$ TeV---our *initial theory* suggests it cannot be outside this window.\n",
    "Hence, our **initial prior**:\n",
    "\\begin{align}\n",
    "p(\\theta) = \n",
    "\\begin{cases}\n",
    "1/(8 - 2), & 2 \\le \\theta \\le 8, \\\\\n",
    "0, & \\text{otherwise}.\n",
    "\\end{cases}\n",
    "\\end{align}"
   ]
  },
  {
   "cell_type": "markdown",
   "id": "4",
   "metadata": {
    "jp-MarkdownHeadingCollapsed": true
   },
   "source": [
    "Each measurement modifies our belief (the prior) into a **posterior** via Bayes' Theorem:\n",
    "\\begin{align}\n",
    "p(m \\mid m_{\\text{obs}}) \\propto p(m_{\\text{obs}} \\mid m) \\, p(m).\n",
    "\\end{align}\n",
    "\n",
    "Here, the **likelihood** $p(m_\\text{obs} \\mid m_\\text{true})$ is given by the Gaussian formula:\n",
    "\\begin{align}\n",
    "p(m_{\\text{obs}} \\mid m) = \\frac{1}{\\sqrt{2\\pi}\\,\\sigma_\\text{expr}} \\exp\\left[-\\frac{(m_{\\text{obs}}-m)^2}{2\\sigma_\\text{expr}^2}\\right].\n",
    "\\end{align}"
   ]
  },
  {
   "cell_type": "markdown",
   "id": "5",
   "metadata": {},
   "source": [
    "## Single Experiment Code (Grid Approximation)\n",
    "\n",
    "Please rewrite the code in the class note into multiple functions that we can perform numerical experiments."
   ]
  },
  {
   "cell_type": "code",
   "execution_count": 27,
   "id": "6",
   "metadata": {},
   "outputs": [],
   "source": [
    "import numpy as np\n",
    "import matplotlib.pyplot as plt"
   ]
  },
  {
   "cell_type": "code",
   "execution_count": 28,
   "id": "7",
   "metadata": {},
   "outputs": [],
   "source": [
    "# For reproducibility\n",
    "np.random.seed(42)"
   ]
  },
  {
   "cell_type": "code",
   "execution_count": 29,
   "id": "8",
   "metadata": {},
   "outputs": [],
   "source": [
    "# HANDSON: Define range for m (0 to 10 TeV)\n",
    "ms = np.linspace(0,10,1001)"
   ]
  },
  {
   "cell_type": "code",
   "execution_count": 30,
   "id": "9",
   "metadata": {},
   "outputs": [],
   "source": [
    "# HANDSON: Gaussian likelihood\n",
    "def likelihood(x, x0, sigma):\n",
    "    return 1/(np.sqrt(2*np.pi)*sigma) * np.exp(-(x0-x)**2/(2*sigma**2))"
   ]
  },
  {
   "cell_type": "code",
   "execution_count": 31,
   "id": "10",
   "metadata": {},
   "outputs": [],
   "source": [
    "def run_expr(\n",
    "    prior,        # Prior before updated by the experiment\n",
    "    m_true,       # Suppose this is the true mass\n",
    "    sigma_expr,   # Detector resolution\n",
    "    seed = None,  # For reproducibility\n",
    "):\n",
    "    if seed is not None:\n",
    "        np.random.seed(seed)\n",
    "\n",
    "    # HANDSON: By running an experiment, we obtain a single measurement\n",
    "    # You may use np.random.normal().\n",
    "    m_obs = np.random.normal(ms)\n",
    "    \n",
    "    # HANDSON: Posterior ~ prior * likelihood\n",
    "    like = likelihood(m_obs, ms, sigma_expr)\n",
    "    post = prior*like\n",
    "\n",
    "    # HANDSON: Normalize the posterior\n",
    "    integ = np.trapezoid(post, ms)\n",
    "\n",
    "    norm_post = post/integ\n",
    "\n",
    "    return m_obs, post"
   ]
  },
  {
   "cell_type": "code",
   "execution_count": 32,
   "id": "11",
   "metadata": {},
   "outputs": [],
   "source": [
    "# Uniform prior in [2, 8]\n",
    "def prior0(ms, m_min=2, m_max=8):\n",
    "    return np.where((m_min <= ms) & (ms <= m_max), 1/(m_max-m_min), 0)\n",
    "\n",
    "# Compute prior\n",
    "prior = prior0(ms)"
   ]
  },
  {
   "cell_type": "code",
   "execution_count": 33,
   "id": "12",
   "metadata": {},
   "outputs": [],
   "source": [
    "# Run a numerical experiment\n",
    "m_true     = 3.6  # Set the groundtruth\n",
    "sigma_expr = 1.0  # Detector resolution\n",
    "\n",
    "m_obs, post = run_expr(prior, m_true, sigma_expr)"
   ]
  },
  {
   "cell_type": "code",
   "execution_count": 34,
   "id": "13",
   "metadata": {},
   "outputs": [
    {
     "ename": "TypeError",
     "evalue": "unsupported format string passed to numpy.ndarray.__format__",
     "output_type": "error",
     "traceback": [
      "\u001b[0;31m---------------------------------------------------------------------------\u001b[0m",
      "\u001b[0;31mTypeError\u001b[0m                                 Traceback (most recent call last)",
      "Cell \u001b[0;32mIn[34], line 2\u001b[0m\n\u001b[1;32m      1\u001b[0m plt\u001b[38;5;241m.\u001b[39maxvline(m_true, ls\u001b[38;5;241m=\u001b[39m\u001b[38;5;124m'\u001b[39m\u001b[38;5;124m:\u001b[39m\u001b[38;5;124m'\u001b[39m,  color\u001b[38;5;241m=\u001b[39m\u001b[38;5;124m'\u001b[39m\u001b[38;5;124mk\u001b[39m\u001b[38;5;124m'\u001b[39m,  label\u001b[38;5;241m=\u001b[39m\u001b[38;5;124mr\u001b[39m\u001b[38;5;124m\"\u001b[39m\u001b[38;5;124m$m_\u001b[39m\u001b[38;5;124m\\\u001b[39m\u001b[38;5;124mtext\u001b[39m\u001b[38;5;132;01m{true}\u001b[39;00m\u001b[38;5;124m=\u001b[39m\u001b[38;5;124m\"\u001b[39m\u001b[38;5;241m+\u001b[39m\u001b[38;5;124mf\u001b[39m\u001b[38;5;124m\"\u001b[39m\u001b[38;5;132;01m{\u001b[39;00mm_true\u001b[38;5;132;01m:\u001b[39;00m\u001b[38;5;124m.3f\u001b[39m\u001b[38;5;132;01m}\u001b[39;00m\u001b[38;5;124m$TeV\u001b[39m\u001b[38;5;124m\"\u001b[39m)\n\u001b[0;32m----> 2\u001b[0m plt\u001b[38;5;241m.\u001b[39maxvline(m_obs,  ls\u001b[38;5;241m=\u001b[39m\u001b[38;5;124m'\u001b[39m\u001b[38;5;124m--\u001b[39m\u001b[38;5;124m'\u001b[39m, color\u001b[38;5;241m=\u001b[39m\u001b[38;5;124m'\u001b[39m\u001b[38;5;124mC1\u001b[39m\u001b[38;5;124m'\u001b[39m, label\u001b[38;5;241m=\u001b[39m\u001b[38;5;124mr\u001b[39m\u001b[38;5;124m\"\u001b[39m\u001b[38;5;124m$m_\u001b[39m\u001b[38;5;124m\\\u001b[39m\u001b[38;5;124mtext\u001b[39m\u001b[38;5;132;01m{obs}\u001b[39;00m\u001b[38;5;124m= \u001b[39m\u001b[38;5;124m\"\u001b[39m\u001b[38;5;241m+\u001b[39m\u001b[38;5;124mf\u001b[39m\u001b[38;5;124m\"\u001b[39m\u001b[38;5;132;43;01m{\u001b[39;49;00m\u001b[43mm_obs\u001b[49m\u001b[38;5;132;43;01m:\u001b[39;49;00m\u001b[38;5;124;43m.3f\u001b[39;49m\u001b[38;5;132;43;01m}\u001b[39;49;00m\u001b[38;5;124m$TeV\u001b[39m\u001b[38;5;124m\"\u001b[39m)\n\u001b[1;32m      3\u001b[0m plt\u001b[38;5;241m.\u001b[39mplot(ms, post, \u001b[38;5;124m'\u001b[39m\u001b[38;5;124mk\u001b[39m\u001b[38;5;124m'\u001b[39m, label\u001b[38;5;241m=\u001b[39m\u001b[38;5;124m\"\u001b[39m\u001b[38;5;124mPosterior (1 experiment)\u001b[39m\u001b[38;5;124m\"\u001b[39m)\n\u001b[1;32m      4\u001b[0m plt\u001b[38;5;241m.\u001b[39mtitle(\u001b[38;5;124m\"\u001b[39m\u001b[38;5;124mPosterior after a single measurement\u001b[39m\u001b[38;5;124m\"\u001b[39m)\n",
      "\u001b[0;31mTypeError\u001b[0m: unsupported format string passed to numpy.ndarray.__format__"
     ]
    },
    {
     "data": {
      "image/png": "[encoded data removed]",
      "text/plain": [
       "<Figure size 640x480 with 1 Axes>"
      ]
     },
     "metadata": {},
     "output_type": "display_data"
    }
   ],
   "source": [
    "plt.axvline(m_true, ls=':',  color='k',  label=r\"$m_\\text{true}=\"+f\"{m_true:.3f}$TeV\")\n",
    "plt.axvline(m_obs,  ls='--', color='C1', label=r\"$m_\\text{obs}= \"+f\"{m_obs:.3f}$TeV\")\n",
    "plt.plot(ms, post, 'k', label=\"Posterior (1 experiment)\")\n",
    "plt.title(\"Posterior after a single measurement\")\n",
    "plt.xlabel(\"Mass (TeV)\")\n",
    "plt.ylabel(\"Probability Density\")\n",
    "plt.legend()"
   ]
  },
  {
   "cell_type": "markdown",
   "id": "14",
   "metadata": {},
   "source": [
    "## Multiple Experiments\n",
    "\n",
    "Now we simulate $N$ experiments. Each experiment provides $(m_{\\text{obs},i}, \\sigma_i) = (m_{\\text{obs},i}, \\sigma_\\text{expr})$.\n",
    "We update our posterior step by step:\n",
    "1. Start with the prior (initially uniform in $[2,8]$).\n",
    "2. For each experiment $i$, multiply the current posterior by the new likelihood.\n",
    "3. Normalize to get the updated posterior, which becomes the prior for the next experiment."
   ]
  },
  {
   "cell_type": "code",
   "execution_count": 39,
   "id": "15",
   "metadata": {},
   "outputs": [],
   "source": [
    "# For reproducibility\n",
    "np.random.seed(42)"
   ]
  },
  {
   "cell_type": "code",
   "execution_count": 40,
   "id": "16",
   "metadata": {},
   "outputs": [
    {
     "ename": "ValueError",
     "evalue": "Output size (10, 1) is not compatible with broadcast dimensions of inputs (10, 1001).",
     "output_type": "error",
     "traceback": [
      "\u001b[0;31m---------------------------------------------------------------------------\u001b[0m",
      "\u001b[0;31mValueError\u001b[0m                                Traceback (most recent call last)",
      "Cell \u001b[0;32mIn[40], line 6\u001b[0m\n\u001b[1;32m      3\u001b[0m sigma_expr \u001b[38;5;241m=\u001b[39m \u001b[38;5;241m1.0\u001b[39m  \u001b[38;5;66;03m# Detector resolution\u001b[39;00m\n\u001b[1;32m      4\u001b[0m N          \u001b[38;5;241m=\u001b[39m \u001b[38;5;241m10\u001b[39m   \u001b[38;5;66;03m# Number of experiments\u001b[39;00m\n\u001b[0;32m----> 6\u001b[0m ms_obs \u001b[38;5;241m=\u001b[39m \u001b[43mnp\u001b[49m\u001b[38;5;241;43m.\u001b[39;49m\u001b[43mrandom\u001b[49m\u001b[38;5;241;43m.\u001b[39;49m\u001b[43mnormal\u001b[49m\u001b[43m(\u001b[49m\u001b[43mms\u001b[49m\u001b[43m,\u001b[49m\u001b[43msize\u001b[49m\u001b[38;5;241;43m=\u001b[39;49m\u001b[43m(\u001b[49m\u001b[43mN\u001b[49m\u001b[43m,\u001b[49m\u001b[38;5;241;43m1\u001b[39;49m\u001b[43m)\u001b[49m\u001b[43m)\u001b[49m\n\u001b[1;32m      8\u001b[0m \u001b[38;5;28mprint\u001b[39m(\u001b[38;5;124m\"\u001b[39m\u001b[38;5;124mSimulated experiment results:\u001b[39m\u001b[38;5;124m\"\u001b[39m)\n\u001b[1;32m      9\u001b[0m \u001b[38;5;28;01mfor\u001b[39;00m i, m_obs \u001b[38;5;129;01min\u001b[39;00m \u001b[38;5;28menumerate\u001b[39m(ms_obs):\n",
      "File \u001b[0;32mnumpy/random/mtrand.pyx:1576\u001b[0m, in \u001b[0;36mnumpy.random.mtrand.RandomState.normal\u001b[0;34m()\u001b[0m\n",
      "File \u001b[0;32m_common.pyx:621\u001b[0m, in \u001b[0;36mnumpy.random._common.cont\u001b[0;34m()\u001b[0m\n",
      "File \u001b[0;32m_common.pyx:539\u001b[0m, in \u001b[0;36mnumpy.random._common.cont_broadcast_2\u001b[0;34m()\u001b[0m\n",
      "File \u001b[0;32m_common.pyx:250\u001b[0m, in \u001b[0;36mnumpy.random._common.validate_output_shape\u001b[0;34m()\u001b[0m\n",
      "\u001b[0;31mValueError\u001b[0m: Output size (10, 1) is not compatible with broadcast dimensions of inputs (10, 1001)."
     ]
    }
   ],
   "source": [
    "# HANDSON: Let's simulate multiple experiments\n",
    "m_true     = 3.6  # Set the groundtruth\n",
    "sigma_expr = 1.0  # Detector resolution\n",
    "N          = 10   # Number of experiments\n",
    "\n",
    "ms_obs = np.random.normal(ms,size=(N,1))\n",
    "\n",
    "print(\"Simulated experiment results:\")\n",
    "for i, m_obs in enumerate(ms_obs):\n",
    "    print(f\"\\tExperiment {i+1}: observed mass = {m_obs:.3f} ± {sigma_expr:.3f}\")"
   ]
  },
  {
   "cell_type": "code",
   "execution_count": null,
   "id": "17",
   "metadata": {},
   "outputs": [],
   "source": [
    "# HANDSON: compute the prior from prior0()\n",
    "\n",
    "pass"
   ]
  },
  {
   "cell_type": "code",
   "execution_count": null,
   "id": "18",
   "metadata": {},
   "outputs": [],
   "source": [
    "# Perform sequential Bayesian updates using the same grid approach\n",
    "\n",
    "plt.figure(figsize=(8,5))\n",
    "plt.axvline(m_true, color='k', ls=':', label=r'$m_\\text{true}$')\n",
    "plt.plot(ms, prior, label=\"Initial Prior\", lw=2)\n",
    "\n",
    "for i, m_obs in enumerate(ms_obs):\n",
    "    # HANDSON: compute the posterior\n",
    "    m_obs, post = pass\n",
    "\n",
    "    # Plot the posterior\n",
    "    plt.plot(ms, post, label=f\"Posterior after Exp {i+1}\")\n",
    "\n",
    "    # HANDSON: posterior becomes prior for next iteration\n",
    "    pass\n",
    "\n",
    "plt.title(\"Sequential Bayesian Updates of Particle Mass\")\n",
    "plt.xlabel(\"Mass (TeV)\")\n",
    "plt.ylabel(\"Probability Density\")\n",
    "plt.legend()"
   ]
  },
  {
   "cell_type": "markdown",
   "id": "19",
   "metadata": {},
   "source": [
    "You will see each new experiment narrowing or shifting the distribution."
   ]
  },
  {
   "cell_type": "code",
   "execution_count": null,
   "id": "20",
   "metadata": {},
   "outputs": [],
   "source": [
    "# HANDSON:\n",
    "# Try to increase `N` to, e.g, 100 and plot the posterior every 10 experiments.\n",
    "# What do you see?"
   ]
  },
  {
   "cell_type": "code",
   "execution_count": null,
   "id": "21",
   "metadata": {},
   "outputs": [],
   "source": [
    "# HANDSON:\n",
    "# Try to change `m_true` to a value outside the theory, e.g., 1.5, and plot the posterior.\n",
    "# What do you see?"
   ]
  },
  {
   "cell_type": "code",
   "execution_count": null,
   "id": "22",
   "metadata": {},
   "outputs": [],
   "source": [
    "# HANDSON:\n",
    "# Suppose now there are two theories, one suggests the mass range [2,8] TeV, one suggests the mass range [1,5] TeV.\n",
    "# How would you take this new theory into account?\n",
    "# Try implement your idea(s) and interpret the results."
   ]
  }
 ],
 "metadata": {
  "kernelspec": {
   "display_name": "Python 3 (ipykernel)",
   "language": "python",
   "name": "python3"
  },
  "language_info": {
   "codemirror_mode": {
    "name": "ipython",
    "version": 3
   },
   "file_extension": ".py",
   "mimetype": "text/x-python",
   "name": "python",
   "nbconvert_exporter": "python",
   "pygments_lexer": "ipython3",
   "version": "3.12.1"
  }
 },
 "nbformat": 4,
 "nbformat_minor": 5
}
