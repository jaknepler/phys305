{
 "cells": [
  {
   "cell_type": "markdown",
   "id": "0",
   "metadata": {},
   "source": [
    "# Numerical Linear Algebra Lab"
   ]
  },
  {
   "cell_type": "markdown",
   "id": "1",
   "metadata": {},
   "source": [
    "## Iterative Solvers: Update Jacobi to Gauss-Seidel\n",
    "\n",
    "We learned in the lecture about the Jacobi interation method for solving $\\mathbf{x}$ in the linear equation $A \\mathbf{x} = \\mathbf{b}$.\n",
    "The algorithm states that by applying the update rule:\n",
    "\\begin{align}\n",
    "  x_i^{(k+1)} = \\frac{1}{a_{ii}} \\Big(b_i - \\sum_{j \\neq i} a_{ij} x_j^{(k)}\\Big),\n",
    "\\end{align}\n",
    "$x_i^{(k+1)}$ will converge to the solution $\\mathbf{x}$.\n",
    "\n",
    "We implemeneted and test it in python:"
   ]
  },
  {
   "cell_type": "code",
   "execution_count": 15,
   "id": "2",
   "metadata": {},
   "outputs": [],
   "source": [
    "def jacobi_iteration(A, b, max_iter=1000, tol=1e-8):\n",
    "    \"\"\"\n",
    "    Solve A x = b using Jacobi iteration.\n",
    "    A is assumed to be square with non-zero diagonal.\n",
    "    \"\"\"\n",
    "    n = A.shape[0]\n",
    "    x = np.zeros(n)\n",
    "    \n",
    "    for k in range(max_iter):\n",
    "        x_old = np.copy(x)\n",
    "        for i in range(n):\n",
    "            # Sum over off-diagonal terms\n",
    "            s = 0.0\n",
    "            for j in range(n):\n",
    "                if j != i:\n",
    "                    s += A[i,j] * x_old[j]\n",
    "            x[i] = (b[i] - s) / A[i, i]\n",
    "        \n",
    "        # Check for convergence\n",
    "        if np.linalg.norm(x - x_old, ord=np.inf) < tol:\n",
    "            print(f\"Jacobi converged in {k+1} iterations.\")\n",
    "            return x\n",
    "    \n",
    "    print(\"Jacobi did not fully converge within max_iter.\")\n",
    "    return x"
   ]
  },
  {
   "cell_type": "code",
   "execution_count": 16,
   "id": "3",
   "metadata": {},
   "outputs": [
    {
     "name": "stdout",
     "output_type": "stream",
     "text": [
      "Jacobi converged in 20 iterations.\n",
      "Jacobi solution: [2.14285714 2.57142857 2.14285714]\n",
      "Direct solve comparison: [2.14285714 2.57142857 2.14285714]\n"
     ]
    }
   ],
   "source": [
    "import numpy as np\n",
    "\n",
    "A = np.array([[4.0, -1.0, 0.0],\n",
    "              [-1.0, 4.0, -1.0],\n",
    "              [0.0, -1.0, 4.0]], dtype=float)\n",
    "b = np.array([6.0, 6.0, 6.0], dtype=float)\n",
    "\n",
    "x_jacobi = jacobi_iteration(A, b)\n",
    "\n",
    "print(\"Jacobi solution:\", x_jacobi)\n",
    "print(\"Direct solve comparison:\", np.linalg.solve(A, b))"
   ]
  },
  {
   "cell_type": "markdown",
   "id": "4",
   "metadata": {},
   "source": [
    "For the first hands-on, please update the above Jacobi algorithm and turn it into a working Gauss Seidel algorithm.\n",
    "\n",
    "Recalling from the lecture that the update step in the Gauss Seidel algorithm is:\n",
    "\\begin{align}\n",
    "     x_i^{(k+1)} = \\frac{1}{a_{ii}} \\Big( b_i - \\sum_{j < i} a_{ij} x_j^{(k+1)} - \\sum_{j > i} a_{ij} x_j^{(k)} \\Big).\n",
    "\\end{align}\n",
    "Note that $\\mathbf{x}^{(k+1)}$ is already partially updated (for $j < i$)."
   ]
  },
  {
   "cell_type": "code",
   "execution_count": 17,
   "id": "5",
   "metadata": {},
   "outputs": [],
   "source": [
    "# HANDSON: update the above Jacobi algorithm to a working Gauss Seidel algorithm\n",
    "\n",
    "def gauss_seidel_iteration(A, b, max_iter=1000, tol=1e-8):\n",
    "    \"\"\"\n",
    "    Solve A x = b using the Gauss-Seidel iteration.\n",
    "    A is assumed to be square with non-zero diagonal.\n",
    "    \"\"\"\n",
    "\n",
    "    n = A.shape[0]\n",
    "    x = np.zeros(n)\n",
    "    \n",
    "    for k in range(max_iter):\n",
    "        x_old = np.copy(x)\n",
    "        for i in range(n):\n",
    "            # Sum over off-diagonal terms\n",
    "            s = 0.0\n",
    "            for j in range(n):\n",
    "                if j < i:\n",
    "                    s += A[i,j] * x[j]\n",
    "                if j > i:\n",
    "                    s += A[i,j]*x_old[j]\n",
    "            x[i] = (b[i] - s) / A[i, i]\n",
    "        \n",
    "        # Check for convergence\n",
    "        if np.linalg.norm(x - x_old, ord=np.inf) < tol:\n",
    "            print(f\"Gauss-Seidel converged in {k+1} iterations.\")\n",
    "            return x\n",
    "    \n",
    "    print(\"Gauss-Seidel did not fully converge within max_iter.\")\n",
    "    return x\n",
    "    \n",
    "    "
   ]
  },
  {
   "cell_type": "code",
   "execution_count": 18,
   "id": "6",
   "metadata": {},
   "outputs": [
    {
     "name": "stdout",
     "output_type": "stream",
     "text": [
      "Gauss-Seidel converged in 11 iterations.\n",
      "Jacobi solution: [2.14285714 2.57142857 2.14285714]\n",
      "Gauss-Seidel solution: [2.14285714 2.57142857 2.14285714]\n",
      "Direct solve comparison: [2.14285714 2.57142857 2.14285714]\n"
     ]
    }
   ],
   "source": [
    "x_gs = gauss_seidel_iteration(A, b)\n",
    "\n",
    "print(\"Jacobi solution:\", x_jacobi)\n",
    "print(\"Gauss-Seidel solution:\", x_gs)\n",
    "print(\"Direct solve comparison:\", np.linalg.solve(A, b))"
   ]
  },
  {
   "cell_type": "markdown",
   "id": "7",
   "metadata": {},
   "source": [
    "## Coupled Harmonic Oscillators\n",
    "\n",
    "Harmonic oscillators are a classic problem in physics, often forming the basis of more complex vibrational analyses.\n",
    "In this part, you will:\n",
    "1. Derive or reference the analytical solution for two coupled oscillators.\n",
    "2. Numerically solve the same system (using an eigenvalue approach).\n",
    "3. Generalize to $n$ (and even $n \\times n$) coupled oscillators, visualizing the mode shapes."
   ]
  },
  {
   "cell_type": "markdown",
   "id": "8",
   "metadata": {},
   "source": [
    "### Two Coupled Oscillators--Analytical Solution\n",
    "\n",
    "Consider two masses $m$ connected by three springs (constant $k$), arranged in a line and connected to two walls:\n",
    "```\n",
    "|--k--[m]--k--[m]--k--|\n",
    "```"
   ]
  },
  {
   "cell_type": "markdown",
   "id": "9",
   "metadata": {},
   "source": [
    "If each mass can move only horizontally, the equations of motion form a $2 \\times 2$ eigenvalue problem.\n",
    "\n",
    "Let:\n",
    "* $x_1(t)$ be the horizontal displacement of **Mass 1** from its equilibrium position.\n",
    "* $x_2(t)$ be the horizontal displacement of **Mass 2**.\n",
    "\n",
    "We assume **small oscillations**, so Hooke’s law applies linearly."
   ]
  },
  {
   "cell_type": "markdown",
   "id": "10",
   "metadata": {},
   "source": [
    "* **Mass 1** experiences:\n",
    "  1. A restoring force $-k \\,x_1$ from the left wall spring.\n",
    "  2. A coupling force from the middle spring:\n",
    "     if $x_2 > x_1$, that spring pulls Mass 1 to the right;\n",
    "     if $x_1 > x_2$, it pulls Mass 1 to the left.\n",
    "     The net contribution is $-k (x_1 - x_2)$.\n",
    "\n",
    "  Summing forces (Newton's second law) gives:\n",
    "  \\begin{align}\n",
    "  m \\, \\ddot{x}_1 = -k\\,x_1 - k\\,(x_1 - x_2).\n",
    "  \\end{align}\n",
    "\n",
    "* **Mass 2** experiences:\n",
    "  1. A restoring force $-k\\,x_2$ from the right wall spring.\n",
    "  2. The coupling force from the middle spring: $-k(x_2 - x_1)$.\n",
    "\n",
    "  Hence,\n",
    "  \\begin{align}\n",
    "  m \\, \\ddot{x}_2 = -k\\,x_2 - k\\,(x_2 - x_1).\n",
    "  \\end{align}\n",
    "\n"
   ]
  },
  {
   "cell_type": "markdown",
   "id": "11",
   "metadata": {},
   "source": [
    "Rewrite each equation:\n",
    "\\begin{align}\n",
    "\\begin{cases}\n",
    "m\\,\\ddot{x}_1 + 2k\\,x_1 -  k\\,x_2 = 0,\\\\\n",
    "m\\,\\ddot{x}_2 -  k\\,x_1 + 2k\\,x_2 = 0.\n",
    "\\end{cases}\n",
    "\\end{align}|"
   ]
  },
  {
   "cell_type": "markdown",
   "id": "12",
   "metadata": {},
   "source": [
    "We can write $\\mathbf{x} = \\begin{pmatrix}x_1 \\\\ x_2\\end{pmatrix}$ and express the system as:\n",
    "\\begin{align}\n",
    "m \\,\\ddot{\\mathbf{x}} + K\\,\\mathbf{x} = \\mathbf{0},\n",
    "\\end{align}\n",
    "where\n",
    "\\begin{align}\n",
    "m \\,\\ddot{\\mathbf{x}} = m \\begin{pmatrix}\\ddot{x}_1 \\\\[6pt] \\ddot{x}_2\\end{pmatrix}, \\quad\n",
    "K = \\begin{pmatrix}\n",
    "2k & -k \\\\\n",
    "-k & 2k\n",
    "\\end{pmatrix}.\n",
    "\\end{align}\n",
    "\n",
    "Equivalently,\n",
    "\\begin{align}\n",
    "\\ddot{\\mathbf{x}} + \\frac{1}{m}\\,K \\,\\mathbf{x} = \\mathbf{0}.\n",
    "\\end{align}\n",
    "This is a **second-order linear system** describing small oscillations."
   ]
  },
  {
   "cell_type": "markdown",
   "id": "13",
   "metadata": {},
   "source": [
    "We look for solutions of the form\n",
    "\\begin{align}\n",
    "\\mathbf{x}(t) = \\mathbf{x}(0)\\, e^{\\,i\\,\\omega\\,t},\n",
    "\\end{align}\n",
    "where $\\mathbf{x}(0)$ is the initial condition and $\\omega$ is the (angular) oscillation frequency."
   ]
  },
  {
   "cell_type": "markdown",
   "id": "14",
   "metadata": {},
   "source": [
    "Plugging into $m\\,\\ddot{\\mathbf{x}} + K\\,\\mathbf{x} = 0$ gives:\n",
    "\\begin{align}\n",
    "-\\,m\\,\\omega^2 \\,\\mathbf{X} + K\\,\\mathbf{X} = \\mathbf{0}\n",
    "\\quad \\Longrightarrow \\quad\n",
    "\\left(K - m\\,\\omega^2 I\\right)\\,\\mathbf{X} = \\mathbf{0}.\n",
    "\\end{align}\n",
    "Nontrivial solutions exist only if\n",
    "\\begin{align}\n",
    "\\det(K - m\\,\\omega^2 I) = 0,\n",
    "\\end{align}\n",
    "which is the **eigenvalue problem** for $\\omega^2$."
   ]
  },
  {
   "cell_type": "markdown",
   "id": "15",
   "metadata": {},
   "source": [
    "Explicitly, $K - m\\,\\omega^2 I$ is:\n",
    "\\begin{align}\n",
    "\\begin{pmatrix}\n",
    "2k - m\\,\\omega^2 & -k \\\\\n",
    "-k & 2k - m\\,\\omega^2\n",
    "\\end{pmatrix}.\n",
    "\\end{align}"
   ]
  },
  {
   "cell_type": "markdown",
   "id": "16",
   "metadata": {},
   "source": [
    "The determinant is:\n",
    "\\begin{align}\n",
    "(2k - m\\,\\omega^2)(2k - m\\,\\omega^2) - (-k)(-k)\n",
    "= (2k - m\\,\\omega^2)^2 - k^2.\n",
    "\\end{align}\n",
    "\n",
    "Setting this to zero results \n",
    "\\begin{align}\n",
    "2k - m\\,\\omega^2 = \\pm\\,k.\n",
    "\\end{align}"
   ]
  },
  {
   "cell_type": "markdown",
   "id": "17",
   "metadata": {},
   "source": [
    "Hence, we get **two** solutions for $\\omega^2$:\n",
    "1. **$\\omega_+^2$**: taking the $+$ sign:\n",
    "   \\begin{align}\n",
    "   2k - m\\,\\omega_+^2 = k \\quad \\Longrightarrow \\quad \\omega_+^2 = \\frac{k}{m} \\quad \\Longrightarrow \\quad \\omega_1 = \\sqrt{\\frac{k}{m}}.\n",
    "   \\end{align}\n",
    "2. **$\\omega_-^2$**: taking the $-$ sign:\n",
    "   \\begin{align}\n",
    "   2k - m\\,\\omega_-^2 = -\\,k \\quad \\Longrightarrow \\quad \\omega_-^2 = \\frac{3k}{m} \\quad \\Longrightarrow \\quad \\omega_2 = \\sqrt{\\frac{3k}{m}}.\n",
    "   \\end{align}"
   ]
  },
  {
   "cell_type": "markdown",
   "id": "18",
   "metadata": {},
   "source": [
    "For each of the normal modes:\n",
    "\n",
    "* **Lower Frequency** $\\omega_+ = \\sqrt{k/m}$:\n",
    "  Plug $\\omega_+^2 = k/m$ back into $(K - m\\,\\omega_+^2 I)\\mathbf{X} = 0$.\n",
    "  For instance,\n",
    "  \\begin{align}\n",
    "    \\begin{pmatrix}\n",
    "    2k - k & -k \\\\\n",
    "    -k & 2k - k\n",
    "    \\end{pmatrix}\n",
    "    \\begin{pmatrix} x_1 \\\\ x_2 \\end{pmatrix}\n",
    "    = \\begin{pmatrix}\n",
    "    k & -k \\\\\n",
    "    -k & k\n",
    "    \\end{pmatrix}\n",
    "    \\begin{pmatrix} x_1 \\\\ x_2 \\end{pmatrix}\n",
    "    = \\mathbf{0}.\n",
    "  \\end{align}\n",
    "  This implies $x_1 = x_2$.\n",
    "  Physically, the **in-phase** mode has both masses moving together."
   ]
  },
  {
   "cell_type": "markdown",
   "id": "19",
   "metadata": {},
   "source": [
    "* **Higher Frequency** $\\omega_- = \\sqrt{3k/m}$:\n",
    "  \\begin{align}\n",
    "    \\begin{pmatrix}\n",
    "    2k - 3k & -k \\\\\n",
    "    -k & 2k - 3k\n",
    "    \\end{pmatrix}\n",
    "    \\begin{pmatrix} x_1 \\\\ x_2 \\end{pmatrix}\n",
    "    = \\begin{pmatrix}\n",
    "    -k & -k \\\\\n",
    "    -k & -k\n",
    "    \\end{pmatrix}\n",
    "    \\begin{pmatrix} x_1 \\\\ x_2 \\end{pmatrix}\n",
    "    = \\mathbf{0}.\n",
    "  \\end{align}\n",
    "  This yields $x_1 = -x_2$.\n",
    "  Physically, the **out-of-phase** mode has the two masses moving in opposite directions."
   ]
  },
  {
   "cell_type": "markdown",
   "id": "20",
   "metadata": {},
   "source": [
    "We can compute the position of these coupled oscillators according to the analytical solutions."
   ]
  },
  {
   "cell_type": "code",
   "execution_count": 19,
   "id": "21",
   "metadata": {},
   "outputs": [],
   "source": [
    "# Physical constants\n",
    "m = 1.0     # mass\n",
    "k = 1.0     # spring constant\n",
    "\n",
    "# Frequencies for two normal modes\n",
    "omegap = np.sqrt(k/m)      # in-phase\n",
    "omegam = np.sqrt(3*k/m)    # out-of-phase\n",
    "\n",
    "# Initial conditions\n",
    "x1_0 = 0\n",
    "x2_0 = 0.5\n",
    "\n",
    "# The analytical solution:\n",
    "def X_analytic(t):\n",
    "    xp_0 = (x1_0 + x2_0) / 2\n",
    "    xm_0 = (x1_0 - x2_0) / 2\n",
    "\n",
    "    xp = xp_0 * np.cos(omegap * t)\n",
    "    xm = xm_0 * np.cos(omegam * t)\n",
    "\n",
    "    return xp + xm, xp - xm"
   ]
  },
  {
   "cell_type": "markdown",
   "id": "22",
   "metadata": {},
   "source": [
    "Plot multiple frames:"
   ]
  },
  {
   "cell_type": "code",
   "execution_count": 20,
   "id": "23",
   "metadata": {},
   "outputs": [],
   "source": [
    "from pathlib import Path\n",
    "\n",
    "import matplotlib.pyplot    as plt\n",
    "import matplotlib.animation as animation\n",
    "\n",
    "def mkplots(X, t_max=10, n_frames=201):\n",
    "    T = np.linspace(0, t_max, n_frames)\n",
    "\n",
    "    Path(\"plots\").mkdir(parents=True, exist_ok=True)\n",
    "    for i, t in enumerate(T):\n",
    "        x1, x2 = X(t)\n",
    "        plt.plot([-2,-1+x1,1+x2,2], [0,0,0,0], 'o-')\n",
    "        plt.xlim(-2,2)\n",
    "        plt.savefig(f\"plots/{i:04}.png\")\n",
    "        plt.close()\n",
    "\n",
    "mkplots(X_analytic)"
   ]
  },
  {
   "cell_type": "markdown",
   "id": "24",
   "metadata": {},
   "source": [
    "Can combine them into a movie using `ffmpeg`:"
   ]
  },
  {
   "cell_type": "code",
   "execution_count": null,
   "id": "25",
   "metadata": {},
   "outputs": [
    {
     "name": "stdout",
     "output_type": "stream",
     "text": [
      "Get:1 https://packages.microsoft.com/repos/microsoft-ubuntu-focal-prod focal InRelease [3632 B]\n",
      "Get:2 https://packages.microsoft.com/repos/microsoft-ubuntu-focal-prod focal/main amd64 Packages [329 kB]\n",
      "Get:3 https://packages.microsoft.com/repos/microsoft-ubuntu-focal-prod focal/main all Packages [2938 B]\n",
      "Get:4 https://repo.anaconda.com/pkgs/misc/debrepo/conda stable InRelease [3961 B]0m\u001b[33m\n",
      "Get:5 https://dl.yarnpkg.com/debian stable InRelease [17.1 kB]                 \u001b[0m\u001b[33m\n",
      "Get:7 https://repo.anaconda.com/pkgs/misc/debrepo/conda stable/main amd64 Packages [4557 B]\n",
      "Get:8 https://dl.yarnpkg.com/debian stable/main amd64 Packages [11.8 kB]     \u001b[0m\u001b[33m3m\n",
      "Get:9 http://archive.ubuntu.com/ubuntu focal InRelease [265 kB]                \u001b[0m\u001b[33m\n",
      "Get:10 https://dl.yarnpkg.com/debian stable/main all Packages [11.8 kB]        \u001b[0m\n",
      "Get:6 https://packagecloud.io/github/git-lfs/ubuntu focal InRelease [29.1 kB] \u001b[0mm\u001b[33m\n",
      "Get:11 http://security.ubuntu.com/ubuntu focal-security InRelease [128 kB]     \u001b[0m\u001b[33m\n",
      "Get:12 https://packagecloud.io/github/git-lfs/ubuntu focal/main amd64 Packages [4064 B]\n",
      "Get:13 http://archive.ubuntu.com/ubuntu focal-updates InRelease [128 kB]m      \u001b[0m\u001b[33m\n",
      "Get:14 http://security.ubuntu.com/ubuntu focal-security/multiverse amd64 Packages [30.9 kB]\n",
      "Get:15 http://archive.ubuntu.com/ubuntu focal-backports InRelease [128 kB]\u001b[33m\n",
      "Get:16 http://security.ubuntu.com/ubuntu focal-security/main amd64 Packages [4187 kB]\n",
      "Get:17 http://archive.ubuntu.com/ubuntu focal/multiverse amd64 Packages [177 kB]\n",
      "Get:18 http://archive.ubuntu.com/ubuntu focal/universe amd64 Packages [11.3 MB]\n",
      "Get:19 http://security.ubuntu.com/ubuntu focal-security/restricted amd64 Packages [4276 kB]\n",
      "Get:20 http://security.ubuntu.com/ubuntu focal-security/universe amd64 Packages [1297 kB]\n",
      "Get:21 http://archive.ubuntu.com/ubuntu focal/main amd64 Packages [1275 kB]    \u001b[0m\u001b[33m\n",
      "Get:22 http://archive.ubuntu.com/ubuntu focal/restricted amd64 Packages [33.4 kB]\n",
      "Get:23 http://archive.ubuntu.com/ubuntu focal-updates/main amd64 Packages [4663 kB]\n",
      "Get:24 http://archive.ubuntu.com/ubuntu focal-updates/multiverse amd64 Packages [34.6 kB]\n",
      "Get:25 http://archive.ubuntu.com/ubuntu focal-updates/universe amd64 Packages [1589 kB]\n",
      "Get:26 http://archive.ubuntu.com/ubuntu focal-updates/restricted amd64 Packages [4463 kB]\n",
      "Get:27 http://archive.ubuntu.com/ubuntu focal-backports/universe amd64 Packages [28.6 kB]\n",
      "Get:28 http://archive.ubuntu.com/ubuntu focal-backports/main amd64 Packages [55.2 kB]\n",
      "Fetched 34.5 MB in 4s (9003 kB/s)[33m                   \u001b[0m\u001b[33m\n",
      "Reading package lists... Done\n",
      "Building dependency tree       \n",
      "Reading state information... Done\n",
      "30 packages can be upgraded. Run 'apt list --upgradable' to see them.\n",
      "Reading package lists... Done\n",
      "Building dependency tree       \n",
      "Reading state information... Done\n",
      "The following additional packages will be installed:\n",
      "  i965-va-driver intel-media-va-driver libaacs0 libaom0 libass9 libasyncns0\n",
      "  libavc1394-0 libavcodec58 libavdevice58 libavfilter7 libavformat58\n",
      "  libavresample4 libavutil56 libbdplus0 libbluray2 libbs2b0 libcaca0\n",
      "  libcdio-cdda2 libcdio-paranoia2 libcdio18 libchromaprint1 libcodec2-0.9\n",
      "  libdc1394-22 libdrm-amdgpu1 libdrm-intel1 libdrm-nouveau2 libdrm-radeon1\n",
      "  libfftw3-double3 libflac8 libflite1 libgl1 libgl1-mesa-dri libglapi-mesa\n",
      "  libglvnd0 libglx-mesa0 libglx0 libgme0 libgsm1 libiec61883-0 libigdgmm11\n",
      "  libjack-jackd2-0 liblilv-0-0 libllvm12 libmp3lame0 libmpg123-0 libmysofa1\n",
      "  libnorm1 libopenal-data libopenal1 libopenjp2-7 libopenmpt0 libopus0\n",
      "  libpciaccess0 libpgm-5.2-0 libpostproc55 libpulse0 libraw1394-11\n",
      "  librubberband2 libsamplerate0 libsdl2-2.0-0 libsensors-config libsensors5\n",
      "  libserd-0-0 libshine3 libslang2 libsnappy1v5 libsndfile1 libsndio7.0\n",
      "  libsord-0-0 libsoxr0 libspeex1 libsratom-0-0 libssh-gcrypt-4 libswresample3\n",
      "  libswscale5 libtheora0 libtwolame0 libusb-1.0-0 libva-drm2 libva-x11-2\n",
      "  libva2 libvdpau1 libvidstab1.1 libvorbisenc2 libvpx6 libvulkan1 libwavpack1\n",
      "  libwebpmux3 libx264-155 libx265-179 libxcb-dri2-0 libxcb-dri3-0 libxcb-glx0\n",
      "  libxcb-present0 libxcb-randr0 libxcb-shape0 libxcb-sync1 libxcb-xfixes0\n",
      "  libxshmfence1 libxv1 libxvidcore4 libxxf86vm1 libzmq5 libzvbi-common\n",
      "  libzvbi0 mesa-va-drivers mesa-vdpau-drivers mesa-vulkan-drivers\n",
      "  ocl-icd-libopencl1 va-driver-all vdpau-driver-all\n",
      "Suggested packages:\n",
      "  ffmpeg-doc i965-va-driver-shaders libbluray-bdj libfftw3-bin libfftw3-dev\n",
      "  jackd2 libportaudio2 opus-tools pciutils pulseaudio libraw1394-doc\n",
      "  lm-sensors serdi sndiod sordi speex opencl-icd libvdpau-va-gl1\n",
      "  nvidia-vdpau-driver nvidia-legacy-340xx-vdpau-driver\n",
      "  nvidia-legacy-304xx-vdpau-driver\n",
      "The following NEW packages will be installed:\n",
      "  ffmpeg i965-va-driver intel-media-va-driver libaacs0 libaom0 libass9\n",
      "  libasyncns0 libavc1394-0 libavcodec58 libavdevice58 libavfilter7\n",
      "  libavformat58 libavresample4 libavutil56 libbdplus0 libbluray2 libbs2b0\n",
      "  libcaca0 libcdio-cdda2 libcdio-paranoia2 libcdio18 libchromaprint1\n",
      "  libcodec2-0.9 libdc1394-22 libdrm-amdgpu1 libdrm-intel1 libdrm-nouveau2\n",
      "  libdrm-radeon1 libfftw3-double3 libflac8 libflite1 libgl1 libgl1-mesa-dri\n",
      "  libglapi-mesa libglvnd0 libglx-mesa0 libglx0 libgme0 libgsm1 libiec61883-0\n",
      "  libigdgmm11 libjack-jackd2-0 liblilv-0-0 libllvm12 libmp3lame0 libmpg123-0\n",
      "  libmysofa1 libnorm1 libopenal-data libopenal1 libopenjp2-7 libopenmpt0\n",
      "  libopus0 libpciaccess0 libpgm-5.2-0 libpostproc55 libpulse0 libraw1394-11\n",
      "  librubberband2 libsamplerate0 libsdl2-2.0-0 libsensors-config libsensors5\n",
      "  libserd-0-0 libshine3 libslang2 libsnappy1v5 libsndfile1 libsndio7.0\n",
      "  libsord-0-0 libsoxr0 libspeex1 libsratom-0-0 libssh-gcrypt-4 libswresample3\n",
      "  libswscale5 libtheora0 libtwolame0 libusb-1.0-0 libva-drm2 libva-x11-2\n",
      "  libva2 libvdpau1 libvidstab1.1 libvorbisenc2 libvpx6 libvulkan1 libwavpack1\n",
      "  libwebpmux3 libx264-155 libx265-179 libxcb-dri2-0 libxcb-dri3-0 libxcb-glx0\n",
      "  libxcb-present0 libxcb-randr0 libxcb-shape0 libxcb-sync1 libxcb-xfixes0\n",
      "  libxshmfence1 libxv1 libxvidcore4 libxxf86vm1 libzmq5 libzvbi-common\n",
      "  libzvbi0 mesa-va-drivers mesa-vdpau-drivers mesa-vulkan-drivers\n",
      "  ocl-icd-libopencl1 va-driver-all vdpau-driver-all\n",
      "0 upgraded, 112 newly installed, 0 to remove and 30 not upgraded.\n",
      "Need to get 86.9 MB of archives.\n",
      "After this operation, 747 MB of additional disk space will be used.\n",
      "Do you want to continue? [Y/n] "
     ]
    }
   ],
   "source": [
    "! rm -rf movie.mpg && ffmpeg -i plots/%04d.png -qmax 2 movie.mpg"
   ]
  },
  {
   "cell_type": "markdown",
   "id": "26",
   "metadata": {},
   "source": [
    "### Two Coupled Oscillators--Semi-Analytical/Numerical Solution\n",
    "\n",
    "Instead of solving the coupled oscillator problem analytically, we can at least solve the eigenvalue part of the problem numerically."
   ]
  },
  {
   "cell_type": "code",
   "execution_count": null,
   "id": "27",
   "metadata": {},
   "outputs": [],
   "source": [
    "# HANDSON: Step 1. rewrite the analytical solution in matrix form\n",
    "\n",
    "# Physical constants\n",
    "m = 1.0     # mass\n",
    "k = 1.0     # spring constant\n",
    "\n",
    "\n",
    "\n",
    "# Frequencies for two normal modes\n",
    "Omega = np.array([...]) # this should become a numpy array\n",
    "\n",
    "# Initial conditions\n",
    "X0 = np.array([...]) # this should become a numpy array\n",
    "\n",
    "# The analytical solution in matrix notation:\n",
    "def X_matrix(t):\n",
    "    M0 = ... # apply an transformation to rewrite the transformation in terms of eigenvectors\n",
    "    M = M0 * np.cos(Omega * t)\n",
    "    return ... # apply an inverse transformation to rewrite the modes in terms of x1 and x2"
   ]
  },
  {
   "cell_type": "code",
   "execution_count": null,
   "id": "28",
   "metadata": {},
   "outputs": [],
   "source": [
    "# HANDSON: Step 2. Replace the manual solutions of eigenvalues Omega and the transform by calling `np.linalg.eig()`\n",
    "\n",
    "# Coupling matrix\n",
    "K = np.array([\n",
    "    [...],\n",
    "    [...],\n",
    "])\n",
    "\n",
    "# Initial conditions\n",
    "X0 = np.array([...])\n",
    "\n",
    "# The analytical solution in matrix notation:\n",
    "def X_matrix(t):\n",
    "    ...\n",
    "    Omega = ...\n",
    "    M0 = ...\n",
    "    M = M0 * np.cos(Omega * t)\n",
    "    return ..."
   ]
  },
  {
   "cell_type": "code",
   "execution_count": null,
   "id": "29",
   "metadata": {},
   "outputs": [],
   "source": [
    "# HANDSON: Step 3. Generalize the solution to work for arbitrary number of coupled oscillators\n",
    "\n",
    "# Coupling matrix\n",
    "K = np.array([\n",
    "    [...],\n",
    "    [...],\n",
    "])\n",
    "\n",
    "# Initial conditions\n",
    "X0 = np.array([...])\n",
    "\n",
    "# The analytical solution in matrix notation:\n",
    "def X_matrix(t):\n",
    "    ...\n",
    "    Omega = ...\n",
    "    M0 = ...\n",
    "    M = M0 * np.cos(Omega * t)\n",
    "    return ..."
   ]
  },
  {
   "cell_type": "code",
   "execution_count": null,
   "id": "30",
   "metadata": {},
   "outputs": [],
   "source": [
    "# Turn the outputs into a movie\n",
    "\n",
    "# mkplots(X)"
   ]
  }
 ],
 "metadata": {
  "kernelspec": {
   "display_name": "Python 3 (ipykernel)",
   "language": "python",
   "name": "python3"
  },
  "language_info": {
   "codemirror_mode": {
    "name": "ipython",
    "version": 3
   },
   "file_extension": ".py",
   "mimetype": "text/x-python",
   "name": "python",
   "nbconvert_exporter": "python",
   "pygments_lexer": "ipython3",
   "version": "3.12.1"
  }
 },
 "nbformat": 4,
 "nbformat_minor": 5
}
