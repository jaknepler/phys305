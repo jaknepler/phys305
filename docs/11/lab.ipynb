{
 "cells": [
  {
   "cell_type": "markdown",
   "id": "0",
   "metadata": {},
   "source": [
    "# Hands-On Lab: Distribution of Superluminal Velocities in Quasars"
   ]
  },
  {
   "cell_type": "markdown",
   "id": "1",
   "metadata": {},
   "source": [
    "In certain radio-loud quasars, astronomers observe apparent superluminal motion.\n",
    "I.e., jet components that appear to move *faster than light* in the plane of the sky.\n",
    "This effect is explained by relativistic beaming plus light-travel-time*geometry, not an actual violation of relativity.\n",
    "In this lab, you will:\n",
    "\n",
    "1. **Model** a population of quasar jets launched at speed $\\beta c$ in random directions.\n",
    "2. **Compute** each jet's apparent transverse velocity $\\beta' \\equiv v'/c$.\n",
    "3. **Compare** your empirical distribution of $\\beta'$ with a known theoretical result.\n",
    "4. **Estimate** mean values and build confidence intervals, tying in concepts from parameter estimation.\n",
    "5. **Explore** possible bias if only jets above some detection threshold are \"observed\".\n",
    "\n",
    "This exercise demonstrates how **random orientation** plus **relativistic speeds** yield \"superluminal\" expansions in a statistical sample, and how the distribution is theoretically predictable."
   ]
  },
  {
   "cell_type": "markdown",
   "id": "2",
   "metadata": {},
   "source": [
    "## Physical Recap\n",
    "\n",
    "A quasar jet moving at speed $v$ at an angle $\\theta$ to our line of sight can show apparent velocity:\n",
    "\\begin{align}\n",
    "v' &= \\frac{d_\\perp}{\\Delta t} = \\frac{v\\sin\\theta}{1 - (v/c)\\cos\\theta}\n",
    "\\end{align}\n",
    "Note that although a $v/c$ term appears in this expression, the eﬀect is not a relativistic eﬀect.\n",
    "It is just due to light delay and the viewing geometry.\n",
    "Let $\\beta = v/c$ and $\\beta' = v'/c$,\n",
    "\\begin{align}\n",
    "\\beta' &= \\frac{\\beta\\sin\\theta}{1 - \\beta\\cos\\theta}\n",
    "\\end{align}"
   ]
  },
  {
   "cell_type": "markdown",
   "id": "3",
   "metadata": {},
   "source": [
    "Note that the apparent transverse speed $\\beta'$ has a maximum value when\n",
    "\\begin{align}\n",
    "\\frac{\\partial\\beta'}{\\partial\\theta} = - \\frac{\\beta(\\beta-\\cos\\theta)}{(1 - \\beta\\cos\\theta)^2} = 0.\n",
    "\\end{align}\n",
    "Hence, $\\beta = \\cos\\theta$ at maximum.\n",
    "Define $\\gamma = (1 - \\beta^2)^{-1/2}$, we have $1/\\gamma = \\sin\\theta$ at the maximum.\n",
    "Therefore,\n",
    "\\begin{align}\n",
    "\\beta' = \\gamma\\beta\n",
    "\\end{align}\n",
    "where $\\gamma$ can be much larger than unity."
   ]
  },
  {
   "cell_type": "markdown",
   "id": "4",
   "metadata": {},
   "source": [
    "## Distribution\n",
    "\n",
    "Given a randomly oriented sample of radio sources, what is the distribution of $\\beta'$ if $\\beta$ is fixed?"
   ]
  },
  {
   "cell_type": "markdown",
   "id": "5",
   "metadata": {},
   "source": [
    "In a random 3D orientation scenario, we want uniform distribution over solid angle $d\\Omega = \\sin\\theta d\\theta d\\phi$.\n",
    "Integrate over $d\\phi$, it is clear that\n",
    "\\begin{align}\n",
    "p(\\theta) = \\sin\\theta \\quad 0 \\le \\theta \\le \\pi/2.\n",
    "\\end{align}\n",
    "The range is chosen because in standard models, the nucleus always eject blobs in two opposite directions.\n",
    "And we are modeling the one blob that travels toward the observator."
   ]
  },
  {
   "cell_type": "markdown",
   "id": "6",
   "metadata": {},
   "source": [
    "Therefore,\n",
    "\\begin{align}\n",
    "  p(\\beta') \n",
    "  &= p(\\theta) \\left|\\frac{d\\theta}{d\\beta'}\\right|\n",
    "   = p(\\theta) \\left|\\frac{d\\beta'}{d\\theta}\\right|^{-1} \\\\\n",
    "  &= \\frac{\\sin\\theta (1-\\beta\\cos\\theta)^2}{|\\beta\\cos\\theta - \\beta^2|}\n",
    "\\end{align}"
   ]
  },
  {
   "cell_type": "markdown",
   "id": "7",
   "metadata": {},
   "source": [
    "In the limit $\\beta\\to 1$, it is not too difficult to derive\n",
    "\\begin{align}\n",
    "  p(\\beta') &\\approx \\frac{4\\beta'}{(1 + \\beta'^2)^2} \\quad \\mbox{for} \\quad \\beta' \\ge 1.\n",
    "\\end{align}"
   ]
  },
  {
   "cell_type": "code",
   "execution_count": 7,
   "id": "8",
   "metadata": {},
   "outputs": [],
   "source": [
    "import numpy as np\n",
    "import matplotlib.pyplot as plt"
   ]
  },
  {
   "cell_type": "code",
   "execution_count": 16,
   "id": "9",
   "metadata": {},
   "outputs": [],
   "source": [
    "def distgen(beta, N=10_000):\n",
    "    gamma = 1 /np.sqrt(1-beta*beta)\n",
    "    # HANDSON: Random angles in [0, pi/2]: uniform in cos(theta)\n",
    "    thetas = np.arccos(np.random.uniform(0.0,1.0,size=N))\n",
    "    # HANDSON: Compute apparent velocity\n",
    "    sints = np.sin(thetas)\n",
    "    costs = np.cos(thetas)\n",
    "    betaps = beta*sints / (1.0-beta*costs)\n",
    "    #deltas = (1.0/gamma) / (1.0 - beta*costs)\n",
    "\n",
    "    return betaps"
   ]
  },
  {
   "cell_type": "code",
   "execution_count": 17,
   "id": "10",
   "metadata": {},
   "outputs": [],
   "source": [
    "# HANDSON: implement the superluminal motion equation\n",
    "# and confirm the approximated distribution is good for `betap >= 1`.\n",
    "\n",
    "def mkplot(ax, beta, N=10_000):\n",
    "    betaps = distgen(beta, N)\n",
    "\n",
    "    # HANDSON: Empirical histogram\n",
    "    plt.hist(betaps)\n",
    "    \n",
    "    \n",
    "\n",
    "    # HANDSON: Print statistics\n",
    "    avg_betap = np.mean(betaps)\n",
    "    std_betap = np.std(betaps)\n",
    "\n",
    "    print(f\"Mean of beta': {avg_betap:.3f}, std: {std_betap:.3f}\")"
   ]
  },
  {
   "cell_type": "code",
   "execution_count": 18,
   "id": "11",
   "metadata": {},
   "outputs": [
    {
     "name": "stdout",
     "output_type": "stream",
     "text": [
      "Mean of beta': 1.450, std: 0.372\n",
      "Mean of beta': 2.156, std: 1.273\n",
      "Mean of beta': 2.427, std: 2.128\n"
     ]
    },
    {
     "ename": "NameError",
     "evalue": "name 'betap' is not defined",
     "output_type": "error",
     "traceback": [
      "\u001b[0;31m---------------------------------------------------------------------------\u001b[0m",
      "\u001b[0;31mNameError\u001b[0m                                 Traceback (most recent call last)",
      "Cell \u001b[0;32mIn[18], line 9\u001b[0m\n\u001b[1;32m      6\u001b[0m mkplot(ax, beta\u001b[38;5;241m=\u001b[39m\u001b[38;5;241m0.999\u001b[39m)\n\u001b[1;32m      8\u001b[0m \u001b[38;5;66;03m# HANDSON: overplot the approximated distribution\u001b[39;00m\n\u001b[0;32m----> 9\u001b[0m ax\u001b[38;5;241m.\u001b[39mplot(\u001b[43mbetap\u001b[49m, pbetap, label\u001b[38;5;241m=\u001b[39m\u001b[38;5;124m'\u001b[39m\u001b[38;5;124manalytical\u001b[39m\u001b[38;5;124m'\u001b[39m)\n\u001b[1;32m     11\u001b[0m ax\u001b[38;5;241m.\u001b[39mlegend()\n\u001b[1;32m     12\u001b[0m ax\u001b[38;5;241m.\u001b[39mset_ylabel(\u001b[38;5;124mr\u001b[39m\u001b[38;5;124m\"\u001b[39m\u001b[38;5;124m$p(\u001b[39m\u001b[38;5;124m\\\u001b[39m\u001b[38;5;124mbeta\u001b[39m\u001b[38;5;124m'\u001b[39m\u001b[38;5;124m)$\u001b[39m\u001b[38;5;124m\"\u001b[39m)\n",
      "\u001b[0;31mNameError\u001b[0m: name 'betap' is not defined"
     ]
    },
    {
     "data": {
      "image/png": "[encoded data removed]",
      "text/plain": [
       "<Figure size 600x400 with 1 Axes>"
      ]
     },
     "metadata": {},
     "output_type": "display_data"
    }
   ],
   "source": [
    "fig, ax = plt.subplots(1,1, figsize=(6,4))\n",
    "\n",
    "# HANDSON: change beta and study the resulting distribution\n",
    "mkplot(ax, beta=0.9)\n",
    "mkplot(ax, beta=0.99)\n",
    "mkplot(ax, beta=0.999)\n",
    "\n",
    "# HANDSON: overplot the approximated distribution\n",
    "ax.plot(betap, pbetap, label='analytical')\n",
    "\n",
    "ax.legend()\n",
    "ax.set_ylabel(r\"$p(\\beta')$\")\n",
    "ax.set_xlabel(r\"$\\beta'$\")\n",
    "ax.set_xlim(0, 10)\n",
    "ax.set_ylim(0, 1.5)"
   ]
  },
  {
   "cell_type": "markdown",
   "id": "12",
   "metadata": {},
   "source": [
    "Interpretation\n",
    "* A significant fraction of $\\beta'$ may exceed 1, giving the illusion of faster than light motion.\n",
    "* Increasing $\\beta$ (closer to 1) pushes more of the distribution to higher $\\beta'$."
   ]
  },
  {
   "cell_type": "code",
   "execution_count": null,
   "id": "9eb293c7-450e-4d42-b0b5-261909d5f4e5",
   "metadata": {},
   "outputs": [],
   "source": []
  }
 ],
 "metadata": {
  "kernelspec": {
   "display_name": "Python 3 (ipykernel)",
   "language": "python",
   "name": "python3"
  },
  "language_info": {
   "codemirror_mode": {
    "name": "ipython",
    "version": 3
   },
   "file_extension": ".py",
   "mimetype": "text/x-python",
   "name": "python",
   "nbconvert_exporter": "python",
   "pygments_lexer": "ipython3",
   "version": "3.12.1"
  }
 },
 "nbformat": 4,
 "nbformat_minor": 5
}
