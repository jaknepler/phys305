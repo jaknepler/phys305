{
 "cells": [
  {
   "cell_type": "markdown",
   "id": "0",
   "metadata": {},
   "source": [
    "# Numerical Integration of Functions"
   ]
  },
  {
   "cell_type": "markdown",
   "id": "1",
   "metadata": {},
   "source": [
    "## Introduction\n",
    "\n",
    "### Importance of Integration in Physics\n",
    "\n",
    "Integration is foundational in physics, as many physical systems are described by differential equations that represent dynamic behaviors.\n",
    "For instance, Newton's second law, $f = m a = m d^2 x/d t^2$, is an ordinary differential equation (ODE) that models the acceleration of a mass under a force.\n",
    "When physical phenomena are modeled as continuous fields, we often move to partial differential equations (PDEs), such as those governing fluid dynamics, electromagnetism, and quantum fields.\n",
    "\n",
    "To predict the behavior of these systems, we frequently need to integrate these differential equations, either over time, space, or other domains.\n",
    "Analytical solutions, though ideal, are rarely feasible for real-world problems due to the complex nature of the equations and boundary conditions.\n",
    "This makes numerical integration essential for approximating solutions in computational physics, enabling us to simulate and analyze physical systems that defy closed-form solutions."
   ]
  },
  {
   "cell_type": "markdown",
   "id": "2",
   "metadata": {},
   "source": [
    "### Numerical Integration of Functions\n",
    "\n",
    "Before diving into the numerical methods for solving complex differential equations, we start with a simpler, yet essential case: the numerical evaluation of a definite integral, represented as\n",
    "\\begin{align}\n",
    "I = \\int_a^b f(x) \\, dx.\n",
    "\\end{align}\n",
    "In many ways, this task is a special case of solving an initial-value problem for an ODE.\n",
    "Specifically, computing the integral $I$ is equivalent to solving the differential equation $d y/d x = f(x)$, with a boundary condition $y(a) = 0$, and evaluating $y(b)$.\n",
    "This perspective connects integration directly to the broader framework of solving differential equations.\n",
    "\n",
    "By focusing first on the numerical integration of functions, we will see the key concept of convergence---the manner in which a numerical approximation approaches the true value as computational parameters (like step size) are refined.\n",
    "This foundation will prepare us for tackling more general ODEs and PDEs, where convergence and error control are critical for obtaining reliable solutions."
   ]
  },
  {
   "cell_type": "markdown",
   "id": "3",
   "metadata": {},
   "source": [
    "### Analytical Example\n",
    "\n",
    "Numerical integration is a key tool for solving problems without analytical solutions.\n",
    "However, to build our understanding, let's start with a function that does have a known solution.\n",
    "This approach allows us to test and validate our algorithms and implementations.\n",
    "\n",
    "Consider the function $f(x) = e^x$.\n",
    "Its indefinite integral is:\n",
    "\\begin{align}\n",
    "\\int f(x) \\, dx = e^x + C\n",
    "\\end{align}\n",
    "where $C$ is the constant of integration.\n",
    "For a definite integral over the interval $[a, b]$, we have:\n",
    "\\begin{align}\n",
    "\\int_a^b f(x) \\, dx = e^b - e^a\n",
    "\\end{align}\n",
    "\n",
    "Below, we plot this function over the interval $[0, 1]$ for visualization."
   ]
  },
  {
   "cell_type": "code",
   "execution_count": 1,
   "id": "4",
   "metadata": {},
   "outputs": [
    {
     "data": {
      "image/png": "[encoded data removed]",
      "text/plain": [
       "<Figure size 640x480 with 1 Axes>"
      ]
     },
     "metadata": {},
     "output_type": "display_data"
    }
   ],
   "source": [
    "# Importing necessary libraries\n",
    "import numpy as np\n",
    "from matplotlib import pyplot as plt\n",
    "\n",
    "# Define the function\n",
    "def f(x):\n",
    "    return np.exp(x)\n",
    "\n",
    "# Define a fine grid for plotting\n",
    "x = np.linspace(0, 1, 129)\n",
    "y = f(x)\n",
    "\n",
    "# Plotting the function\n",
    "plt.plot(x, y)\n",
    "plt.fill_between(x, y, alpha=0.33)\n",
    "plt.title(r'Plot of $f(x) = e^x$')\n",
    "plt.xlabel('x')\n",
    "plt.ylabel('f(x)')\n",
    "plt.show()"
   ]
  },
  {
   "cell_type": "markdown",
   "id": "5",
   "metadata": {},
   "source": [
    "### Riemann Sums\n",
    "\n",
    "The Riemann sum is a foundational approach to numerical integration.\n",
    "It approximates the area under a curve by summing up the values of the function at specific points across the interval, multiplied by the width of each sub-interval.\n",
    "\n",
    "A general Riemann sum for an interval $[a, b]$ is given by:\n",
    "\\begin{align}\n",
    "I \\approx S = \\sum_{i=1}^n f(x_i^*) \\Delta x_i\n",
    "\\end{align}\n",
    "where $\\Delta x_i = x_i - x_{i-1}$ is the width of each sub-interval.\n",
    "\n",
    "There are different types of Riemann sums:\n",
    "\n",
    "- **Left Riemann Sum**: $x_i^* = x_{i-1}$\n",
    "- **Right Riemann Sum**: $x_i^* = x_i$\n",
    "- **Middle Riemann Sum**: $x_i^* = \\frac{x_{i-1} + x_i}{2}$\n",
    "\n",
    "As $\\Delta x_i \\rightarrow 0$, these sums converge to the exact integral.\n",
    "\n",
    "Below, we visualize each type of Riemann sum for $f(x) = e^x$ on a coarse grid over the interval $[0, 1]$."
   ]
  },
  {
   "cell_type": "code",
   "execution_count": null,
   "id": "6",
   "metadata": {},
   "outputs": [],
   "source": [
    "# Define a coarse grid for visualization\n",
    "X = np.linspace(0, 1, 9)\n",
    "Y = f(X)\n",
    "\n",
    "# Plot Left Riemann Sum\n",
    "plt.plot(x, y)\n",
    "plt.scatter(X[:-1], Y[:-1], color='r')\n",
    "plt.fill_between(X, Y, step='post', color='r', alpha=0.33)\n",
    "plt.title('Left Riemann Sum for $f(x) = e^x$')\n",
    "plt.show()"
   ]
  },
  {
   "cell_type": "code",
   "execution_count": null,
   "id": "7",
   "metadata": {},
   "outputs": [],
   "source": [
    "# Plot Right Riemann Sum\n",
    "plt.plot(x, y)\n",
    "plt.scatter(X[1:], Y[1:], color='r')\n",
    "plt.fill_between(X, Y, step='pre', color='r', alpha=0.33)\n",
    "plt.title('Right Riemann Sum for $f(x) = e^x$')\n",
    "plt.show()"
   ]
  },
  {
   "cell_type": "code",
   "execution_count": null,
   "id": "8",
   "metadata": {},
   "outputs": [],
   "source": [
    "# Plot Middle Riemann Sum\n",
    "X_mid = 0.5 * (X[:-1] + X[1:])\n",
    "Y_mid = f(X_mid)\n",
    "\n",
    "plt.plot(x, y)\n",
    "plt.scatter(X_mid, Y_mid, color='r')\n",
    "plt.fill_between(np.concatenate([[0], X_mid, [1]]),\n",
    "                 np.concatenate([Y_mid[:1], Y_mid, Y_mid[-1:]]),\n",
    "                 step='mid', color='r', alpha=0.33)\n",
    "plt.title('Middle Riemann Sum for $f(x) = e^x$')\n",
    "plt.show()"
   ]
  },
  {
   "cell_type": "markdown",
   "id": "9",
   "metadata": {},
   "source": [
    "### Computing Riemann Sums\n",
    "\n",
    "Let's now compute each Riemann sum numerically and compare it with the exact solution."
   ]
  },
  {
   "cell_type": "code",
   "execution_count": null,
   "id": "10",
   "metadata": {},
   "outputs": [],
   "source": [
    "# Left Riemann Sum calculation\n",
    "N = 8\n",
    "D = 1 / N\n",
    "X_left = [D * i for i in range(N)]\n",
    "S_left = np.sum(f(X_left) * D)\n",
    "\n",
    "print('Left Riemann Sum:', S_left)\n",
    "\n",
    "# Exact solution\n",
    "I = f(1) - f(0)\n",
    "print('Analytical solution:', I)\n",
    "\n",
    "# Error analysis\n",
    "aerr_left = abs(I - S_left)\n",
    "rerr_left = abs((I - S_left) / I)\n",
    "print('Absolute error:', aerr_left)\n",
    "print(f'Relative error: {100 * rerr_left:.2f} %')"
   ]
  },
  {
   "cell_type": "code",
   "execution_count": null,
   "id": "11",
   "metadata": {},
   "outputs": [],
   "source": [
    "# Right Riemann Sum calculation\n",
    "X_right = [D * (i + 1) for i in range(N)]\n",
    "S_right = np.sum(f(X_right) * D)\n",
    "\n",
    "print('Right Riemann Sum:', S_right)\n",
    "\n",
    "# Error analysis\n",
    "aerr_right = abs(I - S_right)\n",
    "rerr_right = abs((I - S_right) / I)\n",
    "print('Absolute error:', aerr_right)\n",
    "print(f'Relative error: {100 * rerr_right:.2f} %')"
   ]
  },
  {
   "cell_type": "code",
   "execution_count": null,
   "id": "12",
   "metadata": {},
   "outputs": [],
   "source": [
    "# Middle Riemann Sum calculation\n",
    "X_mid = [D * (i + 0.5) for i in range(N)]\n",
    "S_mid = np.sum(f(X_mid) * D)\n",
    "\n",
    "print('Middle Riemann Sum:', S_mid)\n",
    "\n",
    "# Error analysis\n",
    "aerr_mid = abs(I - S_mid)\n",
    "rerr_mid = abs((I - S_mid) / I)\n",
    "print('Absolute error:', aerr_mid)\n",
    "print(f'Relative error: {100 * rerr_mid:.2f} %')"
   ]
  },
  {
   "cell_type": "markdown",
   "id": "13",
   "metadata": {},
   "source": [
    "By calculating and visualizing the left, right, and middle Riemann sums, we see how each approximation compares to the exact integral.\n",
    "The middle Riemann sum often provides a more accurate result, demonstrating that even small changes in the method can impact accuracy.\n",
    "This understanding of Riemann sums lays the groundwork for more advanced numerical integration techniques that we will explore next."
   ]
  },
  {
   "cell_type": "markdown",
   "id": "14",
   "metadata": {},
   "source": [
    "### Convergence of Riemann Sums\n",
    "\n",
    "In numerical integration, convergence describes how closely a numerical approximation approaches the exact value of an integral as the number of sample points increases.\n",
    "To illustrate convergence, we'll analyze the errors in different types of Riemann sums (left, right, and middle) as we increase the number of sampling points.\n",
    "\n",
    "To streamline our calculations, let's define a function `RiemannSum()` that allows us to compute the Riemann sum for any function $f$ using different sample points (left, right, or middle) and varying the number of intervals."
   ]
  },
  {
   "cell_type": "code",
   "execution_count": null,
   "id": "15",
   "metadata": {},
   "outputs": [],
   "source": [
    "# General function for Riemann sum calculation\n",
    "def RiemannSum(f, N=8, a=0, b=1, t='mid'):\n",
    "    \"\"\"Compute Riemann sum for function `f` from `a` to `b` using `N` points.\n",
    "\n",
    "    Parameters:\n",
    "    - `t`: type of Riemann sum, can be `mid` (middle), `left`, or `right`.\n",
    "    \"\"\"\n",
    "    D = (b - a) / N  # Step size\n",
    "    if t[0] == 'l':\n",
    "        X = [D * i + a for i in range(N)]\n",
    "    elif t[0] == 'r':\n",
    "        X = [D * (i + 1) + a for i in range(N)]\n",
    "    else:\n",
    "        X = [D * (i + 0.5) + a for i in range(N)]\n",
    "    return np.sum(f(np.array(X))) * D"
   ]
  },
  {
   "cell_type": "markdown",
   "id": "16",
   "metadata": {},
   "source": [
    "We'll use varying numbers of sampling points $N$ and compute the absolute error for each Riemann sum type compared to the true integral value.\n",
    "Below, we test this with the function $f(x) = e^x$."
   ]
  },
  {
   "cell_type": "code",
   "execution_count": null,
   "id": "17",
   "metadata": {},
   "outputs": [],
   "source": [
    "# Define range of sampling points\n",
    "Ns = np.array([8, 16, 32, 64, 128, 256, 512, 1024])\n",
    "\n",
    "# True value of the integral for comparison\n",
    "I = np.exp(1) - 1\n",
    "\n",
    "# Calculate errors for left, middle, and right Riemann sums\n",
    "err_l = [abs(RiemannSum(f, N, t='l') - I) for N in Ns]\n",
    "err_m = [abs(RiemannSum(f, N, t='m') - I) for N in Ns]\n",
    "err_r = [abs(RiemannSum(f, N, t='r') - I) for N in Ns]\n",
    "\n",
    "# Plotting the convergence results\n",
    "plt.loglog(Ns, err_l, '+--', color='r', label='Left Riemann Sum')\n",
    "plt.loglog(Ns, err_m, 'o-',  color='g', label='Middle Riemann Sum')\n",
    "plt.loglog(Ns, err_r, 'x--', color='b', label='Right Riemann Sum')\n",
    "plt.loglog(Ns, Ns**(-1.0), ':', lw=0.5, label=r'$N^{-1}$')\n",
    "plt.loglog(Ns, Ns**(-2.0), ':', lw=0.5, label=r'$N^{-2}$')\n",
    "plt.xlabel('Number of Sampling Points')\n",
    "plt.ylabel('Absolute Error')\n",
    "plt.legend()\n",
    "plt.title('Convergence of Riemann Sums for $f(x) = e^x$')\n",
    "plt.show()"
   ]
  },
  {
   "cell_type": "markdown",
   "id": "18",
   "metadata": {},
   "source": [
    "Observing the plot, we note that the error in the middle Riemann sum decreases more rapidly than the errors for the left and right sums.\n",
    "Even with fewer points, the middle Riemann sum achieves comparable accuracy to the left and right sums with significantly more points."
   ]
  },
  {
   "cell_type": "markdown",
   "id": "19",
   "metadata": {},
   "source": [
    "### Testing Convergence with Different Functions\n",
    "\n",
    "To determine if this trend holds generally, let’s repeat the convergence test with different functions: a half-cycle of $\\sin(x)$ and a quarter circle $\\sqrt{1 - x^2}$."
   ]
  },
  {
   "cell_type": "code",
   "execution_count": null,
   "id": "20",
   "metadata": {},
   "outputs": [],
   "source": [
    "# Define a half-cycle of sin(x)\n",
    "def g(x):\n",
    "    return np.sin(x * np.pi / 2)\n",
    "\n",
    "# Calculate errors for each Riemann sum type\n",
    "err_l = [abs(RiemannSum(g, N, t='l') - 2 / np.pi) for N in Ns]\n",
    "err_m = [abs(RiemannSum(g, N, t='m') - 2 / np.pi) for N in Ns]\n",
    "err_r = [abs(RiemannSum(g, N, t='r') - 2 / np.pi) for N in Ns]\n",
    "\n",
    "# Plotting the convergence results\n",
    "plt.loglog(Ns, err_l, '+--', color='r', label='Left Riemann Sum')\n",
    "plt.loglog(Ns, err_m, 'o-',  color='g', label='Middle Riemann Sum')\n",
    "plt.loglog(Ns, err_r, 'x--', color='b', label='Right Riemann Sum')\n",
    "plt.loglog(Ns, Ns**(-1.0), ':', lw=0.5, label=r'$N^{-1}$')\n",
    "plt.loglog(Ns, Ns**(-2.0), ':', lw=0.5, label=r'$N^{-2}$')\n",
    "plt.xlabel('Number of Sampling Points')\n",
    "plt.ylabel('Absolute Error')\n",
    "plt.legend()\n",
    "plt.title(r'Convergence of Riemann Sums for $g(x) = \\sin(\\pi x / 2)$')\n",
    "plt.show()"
   ]
  },
  {
   "cell_type": "code",
   "execution_count": null,
   "id": "21",
   "metadata": {},
   "outputs": [],
   "source": [
    "def h(x):\n",
    "    return np.sqrt(1 - x * x)\n",
    "\n",
    "X = np.linspace(0, 1, 11)\n",
    "X = 0.5 * (X[:-1] + X[1:])\n",
    "Y = h(X)\n",
    "\n",
    "plt.plot(x, h(x))\n",
    "plt.scatter(X, Y, color='r')\n",
    "plt.fill_between(np.concatenate([[0], X, [1]]),\n",
    "                 np.concatenate([Y[:1], Y, Y[-1:]]),\n",
    "                 step='mid', color='r', alpha=0.33)\n",
    "plt.gca().set_aspect('equal')"
   ]
  },
  {
   "cell_type": "code",
   "execution_count": null,
   "id": "22",
   "metadata": {},
   "outputs": [],
   "source": [
    "# Define a quarter circle function\n",
    "def h(x):\n",
    "    return np.sqrt(1 - x**2)\n",
    "\n",
    "# Calculate errors for each Riemann sum type\n",
    "err_l = [abs(RiemannSum(h, N, t='l') - np.pi / 4) for N in Ns]\n",
    "err_m = [abs(RiemannSum(h, N, t='m') - np.pi / 4) for N in Ns]\n",
    "err_r = [abs(RiemannSum(h, N, t='r') - np.pi / 4) for N in Ns]\n",
    "\n",
    "# Plotting the convergence results\n",
    "plt.loglog(Ns, err_l, '+--', color='r', label='Left Riemann Sum')\n",
    "plt.loglog(Ns, err_m, 'o-',  color='g', label='Middle Riemann Sum')\n",
    "plt.loglog(Ns, err_r, 'x--', color='b', label='Right Riemann Sum')\n",
    "plt.loglog(Ns, Ns**(-1.0), ':', lw=0.5, label=r'$N^{-1}$')\n",
    "plt.loglog(Ns, Ns**(-2.0), ':', lw=0.5, label=r'$N^{-2}$')\n",
    "plt.xlabel('Number of Sampling Points')\n",
    "plt.ylabel('Absolute Error')\n",
    "plt.legend()\n",
    "plt.title(r'Convergence of Riemann Sums for $h(x) = \\sqrt{1 - x^2}$')\n",
    "plt.show()"
   ]
  },
  {
   "cell_type": "markdown",
   "id": "23",
   "metadata": {},
   "source": [
    "Although the specific error values vary across different functions, the general trends in convergence remain consistent.\n",
    "Doubling the number of sampling points, or equivalently halving the step size, reduces the error in the left and right Riemann sums by roughly half.\n",
    "By comparison, the middle Riemann sum achieves a fourfold reduction in error for each doubling of sampling points, indicating a faster rate of convergence.\n",
    "This suggests that, overall, the middle Riemann sum converges more rapidly than the left and right sums.\n",
    "\n",
    "As we move forward, we will adopt the notation and methods used in Numerical Recipes. These approaches will provide greater flexibility and accuracy, enabling us to tackle more complex integration problems more effectively."
   ]
  },
  {
   "cell_type": "markdown",
   "id": "24",
   "metadata": {},
   "source": [
    "In general, we observe that:\n",
    "* For the left and right Riemann sums, doubling the number of sampling points halves the error. This is an example of **first-order convergence**.\n",
    "* For the middle Riemann sum, doubling the number of sampling points reduces the error by a factor of four, indicating **second-order convergence**."
   ]
  },
  {
   "cell_type": "markdown",
   "id": "25",
   "metadata": {},
   "source": [
    "## Classical Formulas for Equally Spaced Abscissas\n",
    "\n",
    "### Trapezoidal Rule\n",
    "\n",
    "To improve our numerical integration, we will transition from the Riemann sum approach to the **trapezoidal rule**.\n",
    "From now on, we'll adopt a \"vertex\" formulation for points, where $x_i = a + i \\Delta x$ and $\\Delta x = (b - a)/N$.\n",
    "\n",
    "The trapezoidal rule approximates the area under a curve by treating each segment as a trapezoid.\n",
    "For a single interval $[x_0, x_1]$, we approximate:\n",
    "\\begin{align}\n",
    "\\int_{x_0}^{x_1} f(x) \\, dx \\approx h \\left( \\frac{1}{2} f(x_0) + \\frac{1}{2} f(x_1) \\right) + \\mathcal{O}(h^3 f'')\n",
    "\\end{align}\n",
    "where $h = x_1 - x_0$.\n",
    "This error term indicates that the true value differs by an amount proportional to $h^3$ and $f''$, making it second-order accurate.\n",
    "If $f$ is linear (i.e., $f'' = 0$), the trapezoidal approximation is exact."
   ]
  },
  {
   "cell_type": "code",
   "execution_count": null,
   "id": "26",
   "metadata": {},
   "outputs": [],
   "source": [
    "# Test with different functions, this is a quarter circle\n",
    "\n",
    "X = np.linspace(0, 1, 3)\n",
    "Y = g(X)\n",
    "\n",
    "plt.plot(x, g(x))\n",
    "plt.scatter(X, Y, color='r')\n",
    "plt.fill_between(X, g(X), color='r', alpha=0.33)"
   ]
  },
  {
   "cell_type": "code",
   "execution_count": null,
   "id": "27",
   "metadata": {},
   "outputs": [],
   "source": [
    "# Trapezoidal rule implementation\n",
    "def trapezoidal(f, N=8, a=0, b=1):\n",
    "    X, D = np.linspace(a, b, N+1, retstep=True)\n",
    "    return np.sum(f(X[1:]) + f(X[:-1])) * 0.5 * D\n",
    "\n",
    "# Compare errors of middle Riemann sum and trapezoidal rule\n",
    "err_m = [abs(RiemannSum(g, N, t='m') - 2 / np.pi) for N in Ns]\n",
    "err_t = [abs(trapezoidal(g, N) - 2 / np.pi) for N in Ns]\n",
    "\n",
    "plt.loglog(Ns, err_m, 'o--', color='g', label='Middle Riemann Sum')\n",
    "plt.loglog(Ns, err_t, '+-',  color='r', label='Trapezoidal Rule')\n",
    "plt.loglog(Ns, Ns**(-2.0), ':', lw=0.5, label=r'$N^{-2}$')\n",
    "plt.xlabel('Number of Sampling Points')\n",
    "plt.ylabel('Absolute Error')\n",
    "plt.legend()\n",
    "plt.title('Error Comparison of Middle Riemann Sum and Trapezoidal Rule')\n",
    "plt.show()"
   ]
  },
  {
   "cell_type": "markdown",
   "id": "28",
   "metadata": {},
   "source": [
    "### Simpson's Rule\n",
    "\n",
    "The trapezoidal rule is exact for linear functions.\n",
    "Naturally, we may wonder if there's a method exact for quadratic functions.\n",
    "This leads us to Simpson's Rule.\n",
    "\n",
    "Simpson's rule approximates the integral over two intervals $[x_0, x_2]$ by fitting a quadratic polynomial.\n",
    "This yields:\n",
    "\\begin{align}\n",
    "\\int_{x_0}^{x_2} f(x) \\, dx \\approx h \\left( \\frac{1}{3} f(x_0) + \\frac{4}{3} f(x_1) + \\frac{1}{3} f(x_2) \\right) + \\mathcal{O}(h^5 f^{(4)})\n",
    "\\end{align}\n",
    "where $h = \\frac{x_2 - x_0}{2}$ and $x_1 = \\frac{x_0 + x_2}{2}$.\n",
    "This error term indicates that Simpson's Rule is fourth-order accurate---even when using quadratic approximations, we achieve convergence as though we were using fourth-degree terms."
   ]
  },
  {
   "cell_type": "code",
   "execution_count": null,
   "id": "29",
   "metadata": {},
   "outputs": [],
   "source": [
    "# Simpson's rule implementation\n",
    "def simpson(f, N=8, a=0, b=1):\n",
    "    X, D = np.linspace(a, b, N+1, retstep=True)\n",
    "    S = 0\n",
    "    for i in range(N // 2):\n",
    "        l = X[2 * i]\n",
    "        m = X[2 * i + 1]\n",
    "        r = X[2 * i + 2]\n",
    "        S += D * (f(l) + 4 * f(m) + f(r)) / 3\n",
    "    return S\n",
    "\n",
    "# Compare errors of middle Riemann, trapezoidal, and Simpson's rule\n",
    "err_S = [abs(simpson(g, N) - 2 / np.pi) for N in Ns]\n",
    "\n",
    "plt.loglog(Ns, err_m, 'o--', color='g', label='Middle Riemann Sum')\n",
    "plt.loglog(Ns, err_t, '+--', color='r', label='Trapezoidal Rule')\n",
    "plt.loglog(Ns, err_S, 'x-',  color='b', label=\"Simpson's Rule\")\n",
    "plt.loglog(Ns, Ns**(-2.0), ':', lw=0.5, label=r'$N^{-2}$')\n",
    "plt.loglog(Ns, Ns**(-4.0), ':', lw=0.5, label=r'$N^{-4}$')\n",
    "plt.xlabel('Number of Sampling Points')\n",
    "plt.ylabel('Absolute Error')\n",
    "plt.legend()\n",
    "plt.title('Error Comparison of Middle Riemann, Trapezoidal, and Simpson’s Rules')\n",
    "plt.show()"
   ]
  },
  {
   "cell_type": "markdown",
   "id": "30",
   "metadata": {},
   "source": [
    "### Bode's Rule\n",
    "\n",
    "Simpson's rule is exact for quadratic polynomials, but what if we want a rule that is exact for quartic polynomials?\n",
    "Bode's Rule addresses this, using a polynomial fit across four intervals to achieve even higher accuracy.\n",
    "\n",
    "Bode's rule integrates over four intervals, providing an approximation that is exact for polynomials up to degree four:\n",
    "\\begin{align}\n",
    "\\int_{x_0}^{x_4} f(x) , dx \\approx h \\left( \\frac{14}{45} f(x_0) + \\frac{64}{45} f(x_1) + \\frac{24}{45} f(x_2) + \\frac{64}{45} f(x_3) + \\frac{14}{45} f(x_4) \\right) + \\mathcal{O}(h^7 f^{(6)})\n",
    "\\end{align}\n",
    "where $h = (x_4 - x_0)/4$.\n",
    "This method is sixth-order accurate, meaning it converges more quickly than Simpson's Rule for smooth functions."
   ]
  },
  {
   "cell_type": "code",
   "execution_count": null,
   "id": "31",
   "metadata": {},
   "outputs": [],
   "source": [
    "# Bode's rule implementation\n",
    "def bode(f, N=8, a=0, b=1):\n",
    "    X, D = np.linspace(a, b, N+1, retstep=True)\n",
    "    S = 0\n",
    "    for i in range(N // 4):\n",
    "        x0 = X[4 * i]\n",
    "        x1 = X[4 * i + 1]\n",
    "        x2 = X[4 * i + 2]\n",
    "        x3 = X[4 * i + 3]\n",
    "        x4 = X[4 * i + 4]\n",
    "        S += D * (14 * f(x0) + 64 * f(x1) + 24 * f(x2) + 64 * f(x3) + 14 * f(x4)) / 45\n",
    "    return S\n",
    "\n",
    "# Compare errors of middle Riemann, trapezoidal, Simpson's, and Bode's rule\n",
    "err_B = [abs(bode(g, N) - 2 / np.pi) for N in Ns]\n",
    "\n",
    "plt.loglog(Ns, err_m, 'o--',  color='g',  label='Middle Riemann Sum')\n",
    "plt.loglog(Ns, err_t, '+--',  color='r',  label='Trapezoidal Rule')\n",
    "plt.loglog(Ns, err_S, 'x--',  color='b',  label=\"Simpson's Rule\")\n",
    "plt.loglog(Ns, err_B, 'o-',   color='k',  label=\"Bode's Rule\")\n",
    "plt.loglog(Ns, Ns**(-2.0), ':', lw=0.5, label=r'$N^{-2}$')\n",
    "plt.loglog(Ns, Ns**(-4.0), ':', lw=0.5, label=r'$N^{-4}$')\n",
    "plt.loglog(Ns, Ns**(-6.0), ':', lw=0.5, label=r'$N^{-6}$')\n",
    "plt.xlabel('Number of Sampling Points')\n",
    "plt.ylabel('Absolute Error')\n",
    "plt.legend()\n",
    "plt.title('Error Comparison of Middle Riemann, Trapezoidal, Simpson’s, and Bode’s Rules')\n",
    "plt.show()"
   ]
  },
  {
   "cell_type": "markdown",
   "id": "32",
   "metadata": {},
   "source": [
    "## Using Scipy and Sympy\n",
    "\n",
    "Instead of implementing our own numerical schemes, in real research projects, it is more likely that you will use a state-of-art integrator from a well maintained package.\n",
    "\n",
    "For numerical integration, `scipy` has a recently collection of integrators.\n",
    "\n",
    "For symbolic integration, `sympy` is the standard choice."
   ]
  },
  {
   "cell_type": "code",
   "execution_count": null,
   "id": "33",
   "metadata": {},
   "outputs": [],
   "source": [
    "# Scipy example for numerical integration\n",
    "\n",
    "from scipy.integrate import quad\n",
    "\n",
    "res, err = quad(lambda x: np.sqrt(1 - x * x), 0, 1)\n",
    "\n",
    "print('Result:', res)\n",
    "print('Error: ', err)"
   ]
  },
  {
   "cell_type": "code",
   "execution_count": null,
   "id": "34",
   "metadata": {},
   "outputs": [],
   "source": [
    "# Sympy example for symbolic integration\n",
    "\n",
    "from sympy import Symbol, integrate, sqrt\n",
    "\n",
    "x = Symbol('x')\n",
    "\n",
    "integrate(sqrt(1 - x * x), x)"
   ]
  },
  {
   "cell_type": "code",
   "execution_count": null,
   "id": "35",
   "metadata": {},
   "outputs": [],
   "source": [
    "integrate(sqrt(1 - x * x), (x, 0, 1))"
   ]
  },
  {
   "cell_type": "markdown",
   "id": "36",
   "metadata": {},
   "source": [
    "## Final comments\n",
    "\n",
    "* Based on the previous examples, by increasing the order of the approximations, it is possible to construct numerical integration that converges very rapidly.\n",
    "\n",
    "* For double precision floating point values, the machine accruacy is $\\sim 10^{-16}$.  We saw with Bode's rule, we are already reaching that limit for $\\sim 256$ sampling points.\n",
    "\n",
    "* In practice, for smooth functions, it is even possible to develop numerical integrators that converge exponentially!  E.g., Gaussian quadrature used in scipy.\n",
    "\n",
    "* Symbolic integration provided by, e.g., sympy, can also be a useful tool.\n",
    "\n",
    "* However, if the function is not smooth, i.e., with discontinuity, then formally the convergent rate is only first order.  Hence, refining the sampling points near the discontinuity is the only method to provide accurate integration.\n",
    "\n",
    "* Also, the approximations we introduce in this lecture includes the *end points* of the function.  It will be difficult to apply these numerical methods to, e.g., improper integral, or functions with singularity.\n",
    "\n",
    "* For the assignment that we will do in two weeks, we will learn how to modify our integrators to exclude the end points, and use them for improper integral and functions with singularity."
   ]
  }
 ],
 "metadata": {
  "kernelspec": {
   "display_name": "Python 3 (ipykernel)",
   "language": "python",
   "name": "python3"
  },
  "language_info": {
   "codemirror_mode": {
    "name": "ipython",
    "version": 3
   },
   "file_extension": ".py",
   "mimetype": "text/x-python",
   "name": "python",
   "nbconvert_exporter": "python",
   "pygments_lexer": "ipython3",
   "version": "3.12.1"
  }
 },
 "nbformat": 4,
 "nbformat_minor": 5
}
