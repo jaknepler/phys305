{
 "cells": [
  {
   "cell_type": "markdown",
   "id": "0",
   "metadata": {},
   "source": [
    "# ODE Lab III: Advanced Topics"
   ]
  },
  {
   "cell_type": "markdown",
   "id": "1",
   "metadata": {},
   "source": [
    "## The Double Pendulum Problem\n",
    "\n",
    "The double pendulum is a well known example of a non-linear, chaotic system in classical mechanics.\n",
    "It consists of a pendulum with another pendulum attached to its end, resulting in a system with two degrees of freedom.\n",
    "This configuration leads to highly complex and sensitive-dependent dynamics, making the double pendulum an excellent subject for studying chaos theory and non-linear dynamics.\n",
    "Because it is not possible to construct analytical solutions, it is also a great example to numerical integrators.\n",
    "\n",
    "![Double pendulum](https://upload.wikimedia.org/wikipedia/commons/c/c9/Double-compound-pendulum-dimensioned.svg)"
   ]
  },
  {
   "cell_type": "markdown",
   "id": "2",
   "metadata": {},
   "source": [
    "The equation of motion for double pendulum is pretty ugly.\n",
    "To set up the equations, we assume:\n",
    "\n",
    "* The two arms of the pendulums have the same length $l$.\n",
    "* The mass of each arm is $m$.\n",
    "* The angle between the first and second pendulums, with respect to the vertical axis, are denoted by $\\theta_1$ and $\\theta_2$.\n",
    "\n",
    "Newton's second law suggests that we will need to solve a system of two second-order ordinary differential equations (ODEs).\n",
    "Using the methods we learn in the lecture, we can cast the problem into a system of four first-order ODEs.\n",
    "\\begin{align}\n",
    "\\frac{d\\theta_1}{dt} &=\n",
    "\\frac{6}{m l^2}\\frac{2 p_1 - 3 \\cos(\\theta_1 - \\theta_2) p_2}{16 - 9 \\cos^2(\\theta_1 - \\theta_2)}\\\\\n",
    "\\frac{d\\theta_2}{dt} &=\n",
    "\\frac{6}{m l^2}\\frac{8 p_2 - 3 \\cos(\\theta_1 - \\theta_2) p_1}{16 - 9 \\cos^2(\\theta_1 - \\theta_2)}\\\\\n",
    "\\frac{dp_1}{dt} &=\n",
    "-\\frac{1}{2} m l^2 \\left(\\frac{d\\theta_1}{dt} \\frac{d\\theta_2}{dt}\\sin(\\theta_1 - \\theta_2) +\n",
    "                           3\\frac{g}{l}\\sin\\theta_1\\right)\\\\\n",
    "\\frac{dp_2}{dt} &=\n",
    "-\\frac{1}{2} m l^2 \\left(-\\frac{d\\theta_1}{dt} \\frac{d\\theta_2}{dt}\\sin(\\theta_1 - \\theta_2) +\n",
    "                            \\frac{g}{l}\\sin\\theta_2\\right)\n",
    "\\end{align}\n",
    "where $p_1$ and $p_2$ are called the generalized momenta.\n",
    "(There might be typos in the equation.\n",
    "Please [double check](https://en.wikipedia.org/wiki/Double_pendulum).)"
   ]
  },
  {
   "cell_type": "markdown",
   "id": "3",
   "metadata": {},
   "source": [
    "It would be impossible to implement this in a few minutes as a hands-on exercise!\n",
    "\n",
    "Thankfully, we have just learned computational Lagrangian mechanics in class using autodiff and ODE integrator.\n",
    "The Lagrangian of the double pendulum system is:\n",
    "\\begin{align}\n",
    "L \n",
    "&= \\frac{1}{2} m\\left(v_1^2 + v_2^2\\right)\n",
    " + \\frac{1}{2}I\\left(\\dot\\theta_1^2 + \\dot\\theta_2^2\\right) - mg (y_1 + y_2) \\\\\n",
    "&= \\frac{1}{6} m l^2 \\left(4\\dot\\theta_1^2 + \\dot\\theta_2^2 + 3\\dot\\theta_1\\dot\\theta_2\\cos(\\theta_1 - \\theta_2)\\right)\n",
    " + \\frac{1}{2} mgl \\left(3\\cos\\theta_1 + \\cos\\theta_2\\right)\n",
    "\\end{align}\n",
    "We will use this to implement a solver in this hands-on lab."
   ]
  },
  {
   "cell_type": "code",
   "execution_count": 1,
   "id": "4",
   "metadata": {},
   "outputs": [
    {
     "name": "stdout",
     "output_type": "stream",
     "text": [
      "Requirement already satisfied: jax in /usr/local/python/3.12.1/lib/python3.12/site-packages (0.5.0)\n",
      "Requirement already satisfied: jaxlib<=0.5.0,>=0.5.0 in /usr/local/python/3.12.1/lib/python3.12/site-packages (from jax) (0.5.0)\n",
      "Requirement already satisfied: ml_dtypes>=0.4.0 in /usr/local/python/3.12.1/lib/python3.12/site-packages (from jax) (0.5.1)\n",
      "Requirement already satisfied: numpy>=1.25 in /home/codespace/.local/lib/python3.12/site-packages (from jax) (2.2.1)\n",
      "Requirement already satisfied: opt_einsum in /usr/local/python/3.12.1/lib/python3.12/site-packages (from jax) (3.4.0)\n",
      "Requirement already satisfied: scipy>=1.11.1 in /home/codespace/.local/lib/python3.12/site-packages (from jax) (1.15.1)\n",
      "\n",
      "\u001b[1m[\u001b[0m\u001b[34;49mnotice\u001b[0m\u001b[1;39;49m]\u001b[0m\u001b[39;49m A new release of pip is available: \u001b[0m\u001b[31;49m24.3.1\u001b[0m\u001b[39;49m -> \u001b[0m\u001b[32;49m25.0.1\u001b[0m\n",
      "\u001b[1m[\u001b[0m\u001b[34;49mnotice\u001b[0m\u001b[1;39;49m]\u001b[0m\u001b[39;49m To update, run: \u001b[0m\u001b[32;49mpython3 -m pip install --upgrade pip\u001b[0m\n"
     ]
    }
   ],
   "source": [
    "! pip install jax"
   ]
  },
  {
   "cell_type": "code",
   "execution_count": 2,
   "id": "5",
   "metadata": {},
   "outputs": [],
   "source": [
    "import jax\n",
    "jax.config.update(\"jax_enable_x64\", True)"
   ]
  },
  {
   "cell_type": "code",
   "execution_count": 3,
   "id": "6",
   "metadata": {},
   "outputs": [],
   "source": [
    "from jax import numpy as np"
   ]
  },
  {
   "cell_type": "code",
   "execution_count": 19,
   "id": "7",
   "metadata": {},
   "outputs": [],
   "source": [
    "# Step 1. Copy an ODE Integrator from the class note\n",
    "\n",
    "a =[\n",
    "    [],\n",
    "    [1/5],\n",
    "    [3/40, 9/40],\n",
    "    [44/45, -56/15, 32/9],\n",
    "    [19372/6561, -25360/2187, 64448/6561, -212/729],\n",
    "    [9017/3168, -355/33, 46732/5247, 49/176, -5103/18656],\n",
    "    [35/384, 0, 500/1113, 125/192, -2187/6784, 11/84],\n",
    "]\n",
    "\n",
    "b_high = [35/384, 0, 500/1113, 125/192, -2187/6784, 11/84, 0] # Fifth-order accurate solution estimate\n",
    "b_low  = [5179/57600, 0, 7571/16695, 393/640, -92097/339200, 187/2100, 1/40] # Fourth-order accurate solution estimate\n",
    "\n",
    "c = [0, 1/5, 3/10, 4/5, 8/9, 1, 1]\n",
    "\n",
    "\n",
    "def dt_update(dt, error, tol, fac=0.9, fac_min=0.1, fac_max=4.0, alpha=0.2):\n",
    "    if error == 0:\n",
    "        s = fac_max\n",
    "    else:\n",
    "        s = fac * (tol / error) ** alpha\n",
    "    s = min(fac_max, max(fac_min, s))\n",
    "    dt_new = dt * s\n",
    "    return dt_new\n",
    "\n",
    "    \n",
    "def DP45_step(f, x, t, dt):\n",
    "        # Compute intermediate k1 to k7\n",
    "    k1 = f(x)\n",
    "    k2 = f(x + dt*(a[1][0]*k1))\n",
    "    k3 = f(x + dt*(a[2][0]*k1 + a[2][1]*k2))\n",
    "    k4 = f(x + dt*(a[3][0]*k1 + a[3][1]*k2 + a[3][2]*k3))\n",
    "    k5 = f(x + dt*(a[4][0]*k1 + a[4][1]*k2 + a[4][2]*k3 + a[4][3]*k4))\n",
    "    k6 = f(x + dt*(a[5][0]*k1 + a[5][1]*k2 + a[5][2]*k3 + a[5][3]*k4 + a[5][4]*k5))\n",
    "    k7 = f(x + dt*(a[6][0]*k1 + a[6][1]*k2 + a[6][2]*k3 + a[6][3]*k4 + a[6][4]*k5 + a[6][5]*k6))\n",
    "\n",
    "    ks = [k1, k2, k3, k4, k5, k6, k7]\n",
    "\n",
    "    # Compute high and low order estimates\n",
    "    x_high = x\n",
    "    for b, k in zip(b_high, ks):\n",
    "        x_high += dt * b * k\n",
    "\n",
    "    x_low  = x \n",
    "    for b, k in zip(b_low, ks):\n",
    "        x_low += dt * b * k\n",
    "\n",
    "    return x_high, x_low, ks\n",
    "\n",
    "def DP45(f, x, t, T, dt, atol, rtol):\n",
    "\n",
    "    Ts = [t]\n",
    "    Xs = [np.array(x)]\n",
    "\n",
    "    while t < T:\n",
    "        if t + dt > T:\n",
    "            dt = T - t  # Adjust step size to end exactly at tf\n",
    "\n",
    "        # Perform a single Dormand–Prince step\n",
    "        x_high, x_low, _ = DP45_step(f, x, t, dt)\n",
    "\n",
    "        # Compute the error estimate\n",
    "        error = np.linalg.norm(x_high - x_low, ord=np.inf)\n",
    "\n",
    "        # Compute the tolerance\n",
    "        tol = atol + rtol * np.linalg.norm(x_high, ord=np.inf)\n",
    "\n",
    "        # Check if the step is acceptable\n",
    "        if error <= tol:\n",
    "            # Accept the step\n",
    "            t += dt\n",
    "            x = x_high\n",
    "            Ts.append(t)\n",
    "            Xs.append(x)\n",
    "\n",
    "        # Compute the new step size\n",
    "        dt = dt_update(dt, error, tol)\n",
    "\n",
    "    return np.array(Ts), np.array(Xs)\n",
    "\n",
    "\n",
    "def odeint(f, x0, t0, t1, dt=0.1, atol=1e-6, rtol=1e-6):\n",
    "    return DP45(f, x0, t0, t1, dt, atol, rtol)"
   ]
  },
  {
   "cell_type": "code",
   "execution_count": 20,
   "id": "8",
   "metadata": {},
   "outputs": [],
   "source": [
    "# Step 2. Copy ELrhs() from the class note\n",
    "\n",
    "from jax import grad, jacfwd, jit\n",
    "from jax.numpy.linalg import inv\n",
    "\n",
    "def ELrhs(L):\n",
    "    \n",
    "    Lx  = grad(L, argnums=0) #dL/dx\n",
    "    Lv  = grad(L, argnums=1)  #dL/dv\n",
    "    Lvp = jacfwd(Lv, argnums=(0,1))   #d(dL/dv)/dx, d(dL/dv)/dv\n",
    "\n",
    "    @jit\n",
    "    def rhs(xv): #closure on Lx,Lv,Lvp which are all functions\n",
    "        x,   v   = xv\n",
    "        Lvx, Lvv = Lvp(x, v)\n",
    "        a = inv(Lvv) @ (Lx(x, v) - v @ Lvx)\n",
    "        return np.array([v, a]) #return velocity, acceleration\n",
    "\n",
    "    return rhs"
   ]
  },
  {
   "cell_type": "code",
   "execution_count": 21,
   "id": "9",
   "metadata": {},
   "outputs": [],
   "source": [
    "# Step 3. Combine ELrhs() with the ODE Integrator.  See, e.g., path() from class\n",
    "\n",
    "def path(L, xv0, t0, t1, dt=0.1, atol=1e-6, rtol=1e-6):\n",
    "    return odeint(ELrhs(L), xv0, t0, t1, dt, atol, rtol) # <- make sure it is compatible with the ODE integrator you choose"
   ]
  },
  {
   "cell_type": "code",
   "execution_count": 22,
   "id": "10",
   "metadata": {},
   "outputs": [],
   "source": [
    "# Step 4. Implement the Lagrangian of the double pendulum\n",
    "\n",
    "def L(x, v):\n",
    "    m = 1\n",
    "    l = 1\n",
    "    g = 9.8\n",
    "    x1, x2 = x\n",
    "    v1, v2 = v\n",
    "    return np.sum(1/6*m*l**2 * (4*v1**2+v2**2+3*v1*v2*np.cos(x1-x2)) + .5 * m*g*l*(3*np.cos(x1)+np.cos(x2)))"
   ]
  },
  {
   "cell_type": "code",
   "execution_count": 23,
   "id": "11",
   "metadata": {},
   "outputs": [],
   "source": [
    "# Step 5. Use path() to solve the problem\n",
    "\n",
    "xv0   = np.array([[np.pi/2,np.pi/2], [0.0,0.0]])\n",
    "T, XV = path(L, xv0, 0.0, 10.0)\n",
    "\n",
    "X = XV[:,0,:]\n",
    "V = XV[:,1,:]"
   ]
  },
  {
   "cell_type": "code",
   "execution_count": 24,
   "id": "12",
   "metadata": {},
   "outputs": [
    {
     "data": {
      "text/plain": [
       "[<matplotlib.lines.Line2D at 0x7615a528f530>,\n",
       " <matplotlib.lines.Line2D at 0x7615a528f560>]"
      ]
     },
     "execution_count": 24,
     "metadata": {},
     "output_type": "execute_result"
    },
    {
     "data": {
      "image/png": "[encoded data removed]",
      "text/plain": [
       "<Figure size 640x480 with 1 Axes>"
      ]
     },
     "metadata": {},
     "output_type": "display_data"
    }
   ],
   "source": [
    "# Step 6. Plot the result\n",
    "from matplotlib import pyplot as plt\n",
    "plt.plot(T,X)"
   ]
  },
  {
   "cell_type": "code",
   "execution_count": 25,
   "id": "13",
   "metadata": {},
   "outputs": [
    {
     "ename": "RuntimeError",
     "evalue": "Requested MovieWriter (ffmpeg) not available",
     "output_type": "error",
     "traceback": [
      "\u001b[0;31m---------------------------------------------------------------------------\u001b[0m",
      "\u001b[0;31mRuntimeError\u001b[0m                              Traceback (most recent call last)",
      "Cell \u001b[0;32mIn[25], line 33\u001b[0m\n\u001b[1;32m     29\u001b[0m anim \u001b[38;5;241m=\u001b[39m animation\u001b[38;5;241m.\u001b[39mFuncAnimation(fig, animate, init_func\u001b[38;5;241m=\u001b[39minit, frames\u001b[38;5;241m=\u001b[39m\u001b[38;5;28mlen\u001b[39m(T), interval\u001b[38;5;241m=\u001b[39m\u001b[38;5;241m20\u001b[39m, blit\u001b[38;5;241m=\u001b[39m\u001b[38;5;28;01mTrue\u001b[39;00m)\n\u001b[1;32m     31\u001b[0m plt\u001b[38;5;241m.\u001b[39mclose()\n\u001b[0;32m---> 33\u001b[0m HTML(\u001b[43manim\u001b[49m\u001b[38;5;241;43m.\u001b[39;49m\u001b[43mto_html5_video\u001b[49m\u001b[43m(\u001b[49m\u001b[43m)\u001b[49m)\n",
      "File \u001b[0;32m~/.local/lib/python3.12/site-packages/matplotlib/animation.py:1302\u001b[0m, in \u001b[0;36mAnimation.to_html5_video\u001b[0;34m(self, embed_limit)\u001b[0m\n\u001b[1;32m   1299\u001b[0m path \u001b[38;5;241m=\u001b[39m Path(tmpdir, \u001b[38;5;124m\"\u001b[39m\u001b[38;5;124mtemp.m4v\u001b[39m\u001b[38;5;124m\"\u001b[39m)\n\u001b[1;32m   1300\u001b[0m \u001b[38;5;66;03m# We create a writer manually so that we can get the\u001b[39;00m\n\u001b[1;32m   1301\u001b[0m \u001b[38;5;66;03m# appropriate size for the tag\u001b[39;00m\n\u001b[0;32m-> 1302\u001b[0m Writer \u001b[38;5;241m=\u001b[39m \u001b[43mwriters\u001b[49m\u001b[43m[\u001b[49m\u001b[43mmpl\u001b[49m\u001b[38;5;241;43m.\u001b[39;49m\u001b[43mrcParams\u001b[49m\u001b[43m[\u001b[49m\u001b[38;5;124;43m'\u001b[39;49m\u001b[38;5;124;43manimation.writer\u001b[39;49m\u001b[38;5;124;43m'\u001b[39;49m\u001b[43m]\u001b[49m\u001b[43m]\u001b[49m\n\u001b[1;32m   1303\u001b[0m writer \u001b[38;5;241m=\u001b[39m Writer(codec\u001b[38;5;241m=\u001b[39m\u001b[38;5;124m'\u001b[39m\u001b[38;5;124mh264\u001b[39m\u001b[38;5;124m'\u001b[39m,\n\u001b[1;32m   1304\u001b[0m                 bitrate\u001b[38;5;241m=\u001b[39mmpl\u001b[38;5;241m.\u001b[39mrcParams[\u001b[38;5;124m'\u001b[39m\u001b[38;5;124manimation.bitrate\u001b[39m\u001b[38;5;124m'\u001b[39m],\n\u001b[1;32m   1305\u001b[0m                 fps\u001b[38;5;241m=\u001b[39m\u001b[38;5;241m1000.\u001b[39m \u001b[38;5;241m/\u001b[39m \u001b[38;5;28mself\u001b[39m\u001b[38;5;241m.\u001b[39m_interval)\n\u001b[1;32m   1306\u001b[0m \u001b[38;5;28mself\u001b[39m\u001b[38;5;241m.\u001b[39msave(\u001b[38;5;28mstr\u001b[39m(path), writer\u001b[38;5;241m=\u001b[39mwriter)\n",
      "File \u001b[0;32m~/.local/lib/python3.12/site-packages/matplotlib/animation.py:121\u001b[0m, in \u001b[0;36mMovieWriterRegistry.__getitem__\u001b[0;34m(self, name)\u001b[0m\n\u001b[1;32m    119\u001b[0m \u001b[38;5;28;01mif\u001b[39;00m \u001b[38;5;28mself\u001b[39m\u001b[38;5;241m.\u001b[39mis_available(name):\n\u001b[1;32m    120\u001b[0m     \u001b[38;5;28;01mreturn\u001b[39;00m \u001b[38;5;28mself\u001b[39m\u001b[38;5;241m.\u001b[39m_registered[name]\n\u001b[0;32m--> 121\u001b[0m \u001b[38;5;28;01mraise\u001b[39;00m \u001b[38;5;167;01mRuntimeError\u001b[39;00m(\u001b[38;5;124mf\u001b[39m\u001b[38;5;124m\"\u001b[39m\u001b[38;5;124mRequested MovieWriter (\u001b[39m\u001b[38;5;132;01m{\u001b[39;00mname\u001b[38;5;132;01m}\u001b[39;00m\u001b[38;5;124m) not available\u001b[39m\u001b[38;5;124m\"\u001b[39m)\n",
      "\u001b[0;31mRuntimeError\u001b[0m: Requested MovieWriter (ffmpeg) not available"
     ]
    }
   ],
   "source": [
    "# Step 7. Animate the result\n",
    "\n",
    "from matplotlib import animation\n",
    "from IPython.display import HTML\n",
    "\n",
    "fig = plt.figure(figsize=(8,8))\n",
    "ax  = plt.axes(xlim=(-2.5, 2.5), ylim=(-2.5, 2.5))\n",
    "ax.set_aspect('equal')\n",
    "\n",
    "line, = ax.plot([], [], 'o-', lw=2)\n",
    "\n",
    "def init():\n",
    "    line.set_data([], [])\n",
    "    return line,\n",
    "\n",
    "def animate(i):\n",
    "    th1 = X[i,0]\n",
    "    th2 = X[i,1]\n",
    "\n",
    "    x1 =   np.sin(th1)\n",
    "    y1 = - np.cos(th1)\n",
    "\n",
    "    x2 =   np.sin(th2)\n",
    "    y2 = - np.cos(th2)\n",
    "\n",
    "    line.set_data([0, x1, x1+x2], [0, y1, y1+y2])\n",
    "    return line,\n",
    "\n",
    "anim = animation.FuncAnimation(fig, animate, init_func=init, frames=len(T), interval=20, blit=True)\n",
    "\n",
    "plt.close()\n",
    "\n",
    "HTML(anim.to_html5_video())"
   ]
  },
  {
   "cell_type": "code",
   "execution_count": null,
   "id": "4cffdad2-a443-47d0-aa83-387b5d7b99e7",
   "metadata": {},
   "outputs": [],
   "source": []
  }
 ],
 "metadata": {
  "kernelspec": {
   "display_name": "Python 3 (ipykernel)",
   "language": "python",
   "name": "python3"
  },
  "language_info": {
   "codemirror_mode": {
    "name": "ipython",
    "version": 3
   },
   "file_extension": ".py",
   "mimetype": "text/x-python",
   "name": "python",
   "nbconvert_exporter": "python",
   "pygments_lexer": "ipython3",
   "version": "3.12.1"
  }
 },
 "nbformat": 4,
 "nbformat_minor": 5
}
